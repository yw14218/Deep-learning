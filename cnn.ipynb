{
  "nbformat": 4,
  "nbformat_minor": 0,
  "metadata": {
    "colab": {
      "name": "02_CNN_Introduction.ipynb",
      "provenance": [],
      "collapsed_sections": [],
      "toc_visible": true
    },
    "kernelspec": {
      "name": "python3",
      "display_name": "Python 3"
    },
    "accelerator": "GPU"
  },
  "cells": [
    {
      "cell_type": "markdown",
      "metadata": {
        "id": "5uoxdNjkDw2K"
      },
      "source": [
        "# Introduction to Convolutional Neural Networks\n",
        "\n",
        "This tutorial addresses the basic concepts regarding Convolutional Neural Networks and their implementation using the Keras framework.\n",
        "Convolutional Neural Networks (CNNs) are a class of feed-forward artificial neural architecture. They are applied to analyse visual 2D imagery, meaning that we can feed images directly into a CNN without the need to flatten them into a 1D vector as done in the previous tutorial.\n",
        "CNNs have revolutionised the field of computer vision in the last decade. In 2012 Alex Krizhevsky introduced the AlexNet architecture to win the ImageNet Challenge (one of the most important competitions on image classification within the Computer Vision community), by reducing the top-5 error more than 10 percentage points, which was an incredible improvement at that time. As of now, CNNs are used not only on image classification but in many other computer vision tasks.\n",
        "\n",
        "![](https://cdn-5f733ed3c1ac190fbc56ef88.closte.com/wp-content/uploads/2017/03/alexnet_small-1.png)\n",
        "\n",
        "The image above is from [cv-tricks' blog](https://cv-tricks.com/cnn/understand-resnet-alexnet-vgg-inception/) and shows the proposed AlexNet architecture. It is composed of 5 convolutional layers followed by 3 fully connected layers. Nowadays, we can find much deeper and more complex architectures, which outperform AlexNet on the ImageNet Challenge. \n",
        "\n",
        "\n",
        "\n",
        "\n",
        "\n"
      ]
    },
    {
      "cell_type": "markdown",
      "metadata": {
        "id": "dJ2d_oQ2UEPz"
      },
      "source": [
        "## CNN Structure\n",
        "\n",
        "The basic pipeline of common CNNs consists of an image as input and a stack of convolutional layers that extract a feature representation from the input image. The final shape of the image representation is conditioned on the type of problem/task that the architecture is facing. For instance, the output of the last layer in a classification problem is a probability vector. Each dimension of the probability vector represents how likely is that the input image belongs to a specific class. However, the architecture design is up to us, and therefore, we could code a network that outputs a single value for regression problems, or that generates a new image map for semantic segmentation. Now, let's dig in a bit into CNN and introduce some layers that are widely used. "
      ]
    },
    {
      "cell_type": "markdown",
      "metadata": {
        "id": "wvNKve9GZL4M"
      },
      "source": [
        "### 2D Convolutional Layer\n",
        "\n",
        "The most common layer in any CNN architecture is the 2D convolutional layer. Convolutional layers are specifically designed to extract features from images or even extract features from previously extracted features. As shown in the following illustration, 2D convolutions apply the same filter to the full image. And therefore, due to its nature, 2D convolutional filters exploit the local information presented in images, making them a powerful tool for image analysis. \n",
        "\n",
        "![](https://cdn-images-1.medium.com/max/800/1*Fw-ehcNBR9byHtho-Rxbtw.gif)\n",
        "\n",
        "Image [source](https://towardsdatascience.com/intuitively-understanding-convolutions-for-deep-learning-1f6f42faee1).\n",
        "\n",
        "The latest deep learning frameworks have made possible the integration of convolutional layers easily on our architectures with only a single line of code. We will address here how 2D convolutions work since full understanding is needed to comprehend how any CNN operates. The following images and some explanations can be further explored on the original [Irhum Shafkat's blog](https://towardsdatascience.com/intuitively-understanding-convolutions-for-deep-learning-1f6f42faee1) or in the [Neural Networks and Deep Learning](http://neuralnetworksanddeeplearning.com/) book. Both are strongly recommended.\n",
        "\n",
        "To understand 2D convolutions, we need to define first what a kernel is. Kernels are simply matrices of numbers. The numbers on the kernels are the so-called weights, and the weights on the kernels change as we train the network. Hence, network training aims to optimise the network's parameters (update the kernel weights) such that the cost function is minimised. \n",
        "\n",
        "The 2D convolution operation takes the network's kernels and \"slides\" them over the input image (alike to a sliding window) as in the following image from [PyImageSearch](https://www.pyimagesearch.com/2015/03/23/sliding-windows-for-object-detection-with-python-and-opencv/) blog:\n",
        "\n",
        "![](https://pyimagesearch.com/wp-content/uploads/2014/10/sliding_window_example.gif)\n",
        "\n",
        "In each step, the network performs an element-wise multiplication with the elements that are currently on. The results of this elementwise multiplication are added to obtain the output value of the operation. CNNs repeat previous step for all the positions of the sliding window, composing at the end the feature map. This generated feature map can go through another 2D convolutional layer and create more powerful features. \n",
        "\n",
        "> \n",
        "\n",
        "![](https://cdn-images-1.medium.com/max/800/1*Zx-ZMLKab7VOCQTxdZ1OAw.gif)\n",
        "\n",
        "> \n",
        "The previous image shows the 2D convolution operation. Thus, the new feature values are the weighted sum of all the elements in the sliding window after the elementwise multiplication between input and kernel.  The bigger the size of the kernel is, the more feature elements contribute to the final output value. In contrast to fully connected layers, where a new feature value is a weighted sum over **all** input values, as mentioned, 2D convolutions compute features based on local areas. In other words, instead of looking at every input component, they consider only features coming from close locations. \n",
        "\n",
        "In the above example, the input image on the left has a size of 5x5 and the dimension of the resulting feature map is 3x3, showing that the size of the output maps is not always equal to the input. Hence, the output size can be computed by doing:\n",
        "\n",
        "$O = W - K + 1$,\n",
        "\n",
        "where $O$ is the output height/length, $W$ is the input height/length and $K$ is the kernel size. The output size is not only conditioned on the input size but also on the kernel size. Check in the following code cell how the output feature map shape changes as you increase the kernel size. In Keras, we define the layer by using `Conv2D` from `keras.layers` (documentation [here](https://keras.io/layers/convolutional/#conv2d)).\n",
        "\n",
        "\n",
        "\n",
        "\n",
        "\n",
        "\n",
        "\n"
      ]
    },
    {
      "cell_type": "code",
      "metadata": {
        "id": "ez90vQEksR9b",
        "colab": {
          "base_uri": "https://localhost:8080/"
        },
        "outputId": "7d234cf8-89b3-47b4-d2af-5f24ce22cd00"
      },
      "source": [
        "import numpy as np\n",
        "import keras\n",
        "import tensorflow as tf\n",
        "from keras.models import Sequential\n",
        "from keras.layers import Conv2D\n",
        "\n",
        "# Generate dummy data\n",
        "input_feature = np.random.random((1, 100, 100, 1))\n",
        "\n",
        "# input: 100x100 image with 1 channels -> (100, 100, 1) tensor.\n",
        "# this applies 1 convolution filter of size 3x3 each.\n",
        "model = Sequential()\n",
        "model.add(Conv2D(1, (3, 3), input_shape=(100, 100, 1)))\n",
        "\n",
        "output_feature = model.predict(input_feature)\n",
        "\n",
        "print('Input size: ({:}, {:})'.format(input_feature.shape[1], input_feature.shape[2]))\n",
        "print('Output size: ({:}, {:})'.format(output_feature.shape[1], output_feature.shape[2]))"
      ],
      "execution_count": null,
      "outputs": [
        {
          "output_type": "stream",
          "text": [
            "Input size: (100, 100)\n",
            "Output size: (98, 98)\n"
          ],
          "name": "stdout"
        }
      ]
    },
    {
      "cell_type": "markdown",
      "metadata": {
        "id": "mNOhth4FuNob"
      },
      "source": [
        "Moreover, the kernel size and the input size are not the only parameters affecting the output size. We are going to introduce two extra elements that change the size of the output map: the padding and the stride."
      ]
    },
    {
      "cell_type": "markdown",
      "metadata": {
        "id": "mT6f_n5QiU8X"
      },
      "source": [
        "### Adding Padding to Input Features\n",
        "\n",
        "In some tasks, such as [image translation](https://arxiv.org/pdf/1611.07004.pdf), we need the output size to be equal to the input size. The solution to that is using padding, where extra edges are added to the input features so that the dimension is not reduced after the convolutional layer. Normally those pixels have $0$ value (termed zero-padding), but depending on the application other methods could be used, e.g., reflection or symmetric padding.\n",
        "\n",
        "![](https://cdn-images-1.medium.com/max/800/1*1okwhewf5KCtIPaFib4XaA.gif)\n",
        "\n",
        "If padding is used, the new output size can be computed by doing:\n",
        "\n",
        "$O = W - K + 2P+ 1$, \n",
        "\n",
        "where $P$ is the padding value. $P$ must be set in concordance with the kernel size if dimensionality wants to be preserved. Padding can be added to the `Conv2d` layer in Keras by using the padding argument and selecting one of the two settings: `valid`, which is the default value and means no padding; and `same`, which adapts the padding value to have the same output size as input size."
      ]
    },
    {
      "cell_type": "code",
      "metadata": {
        "id": "X7Z5G2O00Etd",
        "colab": {
          "base_uri": "https://localhost:8080/"
        },
        "outputId": "8becfaa7-c04c-47b9-a0d0-b21531197025"
      },
      "source": [
        "import numpy as np\n",
        "import keras\n",
        "import tensorflow as tf\n",
        "from keras.models import Sequential\n",
        "from keras.layers import Conv2D\n",
        "\n",
        "# Generate dummy data\n",
        "input_feature = np.random.random((1, 100, 100, 1))\n",
        "\n",
        "# input: 100x100 image with 1 channels -> (100, 100, 1) tensor.\n",
        "# this applies 1 convolution filter of size 3x3 each.\n",
        "# attribute padding='same' applies zero-padding to the input feature map\n",
        "model = Sequential()\n",
        "model.add(Conv2D(1, (3, 3), input_shape=(100, 100, 1), padding='same'))\n",
        "\n",
        "output_feature = model.predict(input_feature)\n",
        "\n",
        "print('Input size: ({:}, {:})'.format(input_feature.shape[1], input_feature.shape[2]))\n",
        "print('Output size: ({:}, {:})'.format(output_feature.shape[1], output_feature.shape[2]))"
      ],
      "execution_count": null,
      "outputs": [
        {
          "output_type": "stream",
          "text": [
            "Input size: (100, 100)\n",
            "Output size: (100, 100)\n"
          ],
          "name": "stdout"
        }
      ]
    },
    {
      "cell_type": "markdown",
      "metadata": {
        "id": "tdB4jMeswXVA"
      },
      "source": [
        "### Using Stride in Convolutional Layers\n",
        "\n",
        "The stride operation allows the convolutional layers to skip some of the sliding windows explained above. Hence, instead of jumping one pixel apart, we can define the number of skipped elements before computing the weighting sum between the kernel's weights and input features. A stride of 1 means that features will be extracted from all windows a pixel apart, so basically, every single window is computed. A stride of 2 means that we are selecting windows 2 pixels apart, skipping every other window in the process. Strides reduce the number of computations and consequently the size of the output map. In practice, as we go deeper into the CNN, the spatial size of the feature map gets smaller while the number of channels increases. Moreover, we can further reduce the size of the feature map using pooling operations, which we introduce later in this tutorial.\n",
        "\n",
        "![](https://cdn-images-1.medium.com/max/800/1*BMngs93_rm2_BpJFH2mS0Q.gif)\n",
        "\n",
        "If strides are used, the new output size can be computed as:\n",
        "\n",
        "$O = \\dfrac{W - K + 2P}{S}+ 1$, \n",
        "\n",
        "where $S$ is the stride value. The stride is set in the layer by using the `strides` argument."
      ]
    },
    {
      "cell_type": "code",
      "metadata": {
        "id": "Y8GjztiH0hnw",
        "colab": {
          "base_uri": "https://localhost:8080/"
        },
        "outputId": "5cc501ec-2071-4430-9760-ba9f99e7b6db"
      },
      "source": [
        "import numpy as np\n",
        "import keras\n",
        "import tensorflow as tf\n",
        "from keras.models import Sequential\n",
        "from keras.layers import Conv2D\n",
        "\n",
        "# Generate dummy data\n",
        "input_feature = np.random.random((1, 100, 100, 1))\n",
        "\n",
        "# input: 100x100 image with 1 channels -> (100, 100, 1) tensor.\n",
        "# this applies 1 convolution filter of size 3x3 each.\n",
        "# attribute padding='same' applies zero-padding to the input feature map\n",
        "# attribute strides=2 applies applies stride of 2\n",
        "model = Sequential()\n",
        "model.add(Conv2D(1, (3, 3), input_shape=(100, 100, 1), padding='same', strides=2))\n",
        "\n",
        "output_feature = model.predict(input_feature)\n",
        "\n",
        "print('Input size: ({:}, {:})'.format(input_feature.shape[1], input_feature.shape[2]))\n",
        "print('Output size: ({:}, {:})'.format(output_feature.shape[1], output_feature.shape[2]))"
      ],
      "execution_count": null,
      "outputs": [
        {
          "output_type": "stream",
          "text": [
            "Input size: (100, 100)\n",
            "Output size: (50, 50)\n"
          ],
          "name": "stdout"
        }
      ]
    },
    {
      "cell_type": "markdown",
      "metadata": {
        "id": "f-fKvgJ3H2gr"
      },
      "source": [
        "## Differences Between Kernel and Filters\n",
        "\n",
        "The examples above take as input a single-channel image and compute a feature map with also one channel. However, when dealing with RGB images or feature maps, the input is no longer a single-channel map but, instead, they can have multiple channels. In the case of an RGB image, for each 2D convolution, we will need to define 3 kernels to interact with each of the image's channel colours. This group of kernels is called a filter. Thus, a filter is a collection of kernels that produces a single output.\n",
        "\n",
        "As a regular practice when defining Deep Learning models, we increase the number of filters in each convolutional layer as we go deeper into the model. Due to the element-wise multiplication, the number of kernels on each filter must be the same that the number of channels in the input feature map. Keras already deals with the number of kernels inside each filter. Keras keeps track of the input size in each convolutional layer unlike other frameworks (Pytorch or TensorFlow). Hence, in Keras, we must only decide the number of filters (output channels) in each layer.\n",
        "\n",
        "The next figure shows how the convolution is performed when having three input channels. First, one filter uses its three independent kernels to convolve with the RGB channels of the input image:\n",
        "\n",
        "![](https://cdn-images-1.medium.com/max/1000/1*8dx6nxpUh2JqvYWPadTwMQ.gif)\n",
        "\n",
        "Next, each of the processed feature maps is added together to obtain a single channel:\n",
        "\n",
        "![](https://cdn-images-1.medium.com/max/1000/1*CYB2dyR3EhFs1xNLK8ewiA.gif)\n",
        "\n",
        "Finally, we add the bias term to obtain the feature map. There is a single bias for the full output channel map. This operation is repeated for all the filters inside the convolutional layer.\n",
        "\n",
        "Now, we show how to use a `Conv2D` layer that takes an input image with 3 channels and generates an output map with 32 channels.\n"
      ]
    },
    {
      "cell_type": "code",
      "metadata": {
        "id": "nqiEwpdROxga",
        "colab": {
          "base_uri": "https://localhost:8080/"
        },
        "outputId": "05f02226-48b5-41fd-f1b0-c1e50db62341"
      },
      "source": [
        "import numpy as np\n",
        "import keras\n",
        "import tensorflow as tf\n",
        "from keras.models import Sequential\n",
        "from keras.layers import Conv2D\n",
        "\n",
        "# Generate dummy data\n",
        "input_feature = np.random.random((1, 100, 100, 3))\n",
        "\n",
        "# input: 100x100 image with 3 channels -> (100, 100, 3) tensor.\n",
        "# this applies 32 convolution filters of size 3x3 each.\n",
        "# attribute padding='same' applies zero-padding to the input feature map\n",
        "# attribute strides=2 applies applies stride of 2\n",
        "model = Sequential()\n",
        "model.add(Conv2D(32, (3, 3), input_shape=(100, 100, 3), padding='same', strides=2))\n",
        "\n",
        "output_feature = model.predict(input_feature)\n",
        "\n",
        "print('Input size: ({:}, {:}, {:})'.format(input_feature.shape[1], input_feature.shape[2], input_feature.shape[3]))\n",
        "print('Output size: ({:}, {:}, {:})'.format(output_feature.shape[1], output_feature.shape[2], output_feature.shape[3]))"
      ],
      "execution_count": null,
      "outputs": [
        {
          "output_type": "stream",
          "text": [
            "Input size: (100, 100, 3)\n",
            "Output size: (50, 50, 32)\n"
          ],
          "name": "stdout"
        }
      ]
    },
    {
      "cell_type": "markdown",
      "metadata": {
        "id": "S50cYwkhPqka"
      },
      "source": [
        "## Activation Functions\n",
        "\n",
        "As seen in previous tutorials, after a `Dense` layer we usually can find an activation function. We introduce here how to use them after `Conv2D` layers. Those activation functions are a set of operators that maps the feature values to a new set of values, the mapping depends on the function at hand. The main reason for using activation functions is that they add non-linearities to the network, giving more expressive power to the network, which will be able to reproduce more complex functions. \n",
        "\n",
        "\n",
        "The complete list of activation functions that Keras offers can be found [here](https://keras.io/activations/). We introduce here some of them:\n",
        "\n",
        "*  **Sigmoid Function** sets the output in the range (0, 1). The sigmoid function is widely used in binary classification problems since its output can be taken as a probability value. `keras.activations.sigmoid(x)`:\n",
        "\n",
        ">![](https://i.ibb.co/Ph8dsTv/sigmoid.png)\n",
        "\n",
        "*  **Tanh Function** is a logistic function as sigmoid, but the range of the tanh function is (-1, 1). Contrary to sigmoid function, where the values close to 0 are set around 0.5, in the tanh function they will be still mapped around the 0 value. `keras.activations.tanh(x)`:\n",
        "\n",
        ">![](https://i.ibb.co/68g7LpL/tanh.png)\n",
        "\n",
        "*  **ReLU Function** is the most common activation function you can find in any current CNN as in general works better than the rest. The range of this function is in \\[0, inf). It sets all negative values to 0 and hence is computationally easy to implement. As a drawback, during training some neurons *die*, meaning that the output is 0 for all available data points and no gradient is propagated there. `keras.activations.relu(x, alpha=0.0, max_value=None, threshold=0.0)`:\n",
        "\n",
        ">![](https://i.ibb.co/Zd9H8Z4/relu.png)\n",
        "\n",
        "*  **LeakyReLU Function** is a modified version of the ReLU activation above, which attempts to solve the problem of dying neurons that ReLU has. While ReLU does not backpropagate negative values, Leaky ReLU smooths those values without setting them to 0. That allows the gradients to backpropagate through the network even for negative values. `keras.layers.LeakyReLU(alpha=0.3)`:\n",
        "\n",
        ">![](https://i.ibb.co/dmnJ6h1/leakyrelu.png)\n",
        "\n",
        "*  **Softmax Function** is another widely activation function for multi-class classification problems and usually is employed as the last activation function in the classification model. This function sets all of the output elements to the range (0, 1). However, the softmax function does not take independently the input values to map it into its probability value. Softmax Function takes an un-normalized vector, $s$, and normalizes it into a probability distribution, $p$, following the softmax expression. As the output is a probability, the output elements add up to 1. `keras.activations.softmax(x, axis=-1)`. Thus, the output value $p_i$ is computed as:\n",
        "\n",
        "> $p_{i} = \\dfrac{e^{s_i}}{\\sum_{\\substack{j}}^{N} e^{s_j}}$"
      ]
    },
    {
      "cell_type": "markdown",
      "metadata": {
        "id": "-MWo2VsYr5T2"
      },
      "source": [
        "The following example shows the feature maps before and after of the ReLU activation function. All values that are negative are set to 0 after the activation function.\n",
        "\n",
        "\n"
      ]
    },
    {
      "cell_type": "code",
      "metadata": {
        "id": "lp1HH0VOqN0N",
        "colab": {
          "base_uri": "https://localhost:8080/"
        },
        "outputId": "1884817f-59b6-41f8-8889-474d9d865180"
      },
      "source": [
        "import numpy as np\n",
        "import keras\n",
        "import tensorflow as tf\n",
        "tf.compat.v1.logging.set_verbosity(tf.compat.v1.logging.ERROR)\n",
        "from keras.models import Sequential, Model\n",
        "from keras.layers import Conv2D, Activation\n",
        "\n",
        "# Generate dummy data\n",
        "input_feature = np.random.random((1, 3, 3, 1)) - 0.5\n",
        "\n",
        "# input: 3x3 image with 1 channel -> (3, 3, 1) tensor.\n",
        "# This applies a 1 convolution filter of size 3x3 each.\n",
        "# This applies a ReLU activation function\n",
        "model = Sequential()\n",
        "model.add(Conv2D(1, (3, 3), input_shape=(3, 3, 1), padding='same', strides=1, name='conv'))\n",
        "model.add(Activation('relu'))\n",
        "\n",
        "model_before_ReLU = Model(inputs=model.input, outputs=model.get_layer('conv').output)\n",
        "\n",
        "output_feature = model_before_ReLU.predict(input_feature)\n",
        "output_ReLu_feature = model.predict(input_feature)\n",
        "\n",
        "print('Output Network without activation function')\n",
        "print(output_feature)\n",
        "\n",
        "print('')\n",
        "print('Output Network after ReLU activation function')\n",
        "print(output_ReLu_feature)\n"
      ],
      "execution_count": null,
      "outputs": [
        {
          "output_type": "stream",
          "text": [
            "Output Network without activation function\n",
            "[[[[ 0.23390736]\n",
            "   [ 0.2609628 ]\n",
            "   [-0.10049579]]\n",
            "\n",
            "  [[ 0.47150436]\n",
            "   [ 0.01826818]\n",
            "   [-0.0576808 ]]\n",
            "\n",
            "  [[ 0.08542764]\n",
            "   [ 0.02355585]\n",
            "   [ 0.09083541]]]]\n",
            "\n",
            "Output Network after ReLU activation function\n",
            "[[[[0.23390736]\n",
            "   [0.2609628 ]\n",
            "   [0.        ]]\n",
            "\n",
            "  [[0.47150436]\n",
            "   [0.01826818]\n",
            "   [0.        ]]\n",
            "\n",
            "  [[0.08542764]\n",
            "   [0.02355585]\n",
            "   [0.09083541]]]]\n"
          ],
          "name": "stdout"
        }
      ]
    },
    {
      "cell_type": "markdown",
      "metadata": {
        "id": "Ys6ZB1DOTLH6"
      },
      "source": [
        "## Pooling Layer\n",
        "\n",
        "It is a common practice to insert a pooling layer between convolutional layers in CNNs. In a standard CNN architecture, we set the feature sizes to become smaller progressively to reduce the computation in the networks, and to merge the information from different spatial locations. To reduce the feature map sizes, we can either use bigger stride size in the convolutional layers or we can use pooling layers. Pooling layers perform a spatial sliding window and apply an operation to reduce the spatial size. Those operations vary depending on the architecture, being the max, mean and min pooling the most typical ones. Here, we will explain the max pooling, although all the others work similarly. Max pooling keeps only the max value in a neighbourhood, where the neighbourhood is defined by the size of the kernel. Let's visualise it, the next example shows the result of a Max Pooling layer with a 2x2 kernel and a stride of 2.\n",
        "\n",
        "![](https://i.ibb.co/Xp454S4/MaxPool.png)\n",
        "\n",
        "As in convolutional layers, the final size is conditioned to the stride size of the pooling layer. However, contrary to convolutional layers, pooling layers operate independently on each of the input channels, without modifying the depth of the feature maps. To add max pooling to our model we need to import `MaxPooling2d` from `keras.layers` and define the stride and pooling size."
      ]
    },
    {
      "cell_type": "code",
      "metadata": {
        "id": "HzoTGOwDmQm4",
        "colab": {
          "base_uri": "https://localhost:8080/"
        },
        "outputId": "6a6bfeb3-3c9e-4947-a090-df10a5c5e662"
      },
      "source": [
        "import numpy as np\n",
        "import keras\n",
        "import tensorflow as tf\n",
        "from keras.models import Sequential\n",
        "from keras.layers import Conv2D, Activation, MaxPooling2D\n",
        "\n",
        "# Generate dummy data\n",
        "input_feature = np.random.random((1, 100, 100, 3))\n",
        "\n",
        "# input: 100x100 image with 3 channels -> (100, 100, 3) tensor.\n",
        "# this applies 32 convolution filters of size 3x3 each.\n",
        "# attribute padding='same' applies zero-padding to the input feature map\n",
        "# attribute strides=1 applies applies stride of 1\n",
        "model = Sequential()\n",
        "model.add(Conv2D(32, (3, 3), input_shape=(100, 100, 3), padding='same', strides=1))\n",
        "model.add(Activation('relu'))\n",
        "model.add(MaxPooling2D(pool_size=(2, 2), strides=(2, 2), padding='same'))\n",
        "\n",
        "output_feature = model.predict(input_feature)\n",
        "\n",
        "print('Input size: ({:}, {:}, {:})'.format(input_feature.shape[1], input_feature.shape[2], input_feature.shape[3]))\n",
        "print('Output size: ({:}, {:}, {:})'.format(output_feature.shape[1], output_feature.shape[2], output_feature.shape[3]))"
      ],
      "execution_count": null,
      "outputs": [
        {
          "output_type": "stream",
          "text": [
            "Input size: (100, 100, 3)\n",
            "Output size: (50, 50, 32)\n"
          ],
          "name": "stdout"
        }
      ]
    },
    {
      "cell_type": "markdown",
      "metadata": {
        "id": "LKU4-GbZHw0R"
      },
      "source": [
        "# Example: Classification on MNIST\n",
        "\n",
        "As opposed to the *Introduction to Keras* tutorial, in this section, we show how to perform image classification when the input data is a 2D image instead of a flat 1D vector. \n",
        "\n",
        "As discussed above, Convolutional Neural Networks aim to extract and exploit the local relationships on 2D maps, hence, CNNs are much more convenient for images than Multi-layer Perceptron models. \n",
        "\n",
        "First of all, we load the MNIST dataset from Keras' framework. The definition of the data is almost identical than in the Keras tutorial, although this time we are not reshaping the input images into a 1D vector."
      ]
    },
    {
      "cell_type": "code",
      "metadata": {
        "id": "3t0Wq9ArL4EZ",
        "colab": {
          "base_uri": "https://localhost:8080/"
        },
        "outputId": "62154a13-9ea8-4404-e8a1-96ea2fe16abe"
      },
      "source": [
        "import tensorflow as tf\n",
        "tf.compat.v1.logging.set_verbosity(tf.compat.v1.logging.ERROR)\n",
        "from keras.models import Sequential\n",
        "from keras.layers import Dense, Dropout, Activation, BatchNormalization\n",
        "from keras.utils import np_utils\n",
        "from keras.datasets import mnist\n",
        "from keras.optimizers import RMSprop\n",
        "from keras.layers import Conv2D, MaxPooling2D, Flatten\n",
        "import numpy as np\n",
        "\n",
        "# the data, shuffled and split between train and test sets\n",
        "# Here we are using the official test set as our validation set, in further\n",
        "# tutorials, test and validation splits will be explained properly.\n",
        "# Hence, even though the variables are `x_test` and `y_test`, they represent our validation set\n",
        "(x_train, y_train), (x_test, y_test) = mnist.load_data()\n",
        "\n",
        "shape = x_train.shape\n",
        "\n",
        "# Normalize and reshape the input images\n",
        "x_train = np.expand_dims(x_train.astype('float32'), -1)\n",
        "x_test = np.expand_dims(x_test.astype('float32'), -1)\n",
        "\n",
        "x_train /= 255\n",
        "x_test /= 255\n",
        "\n",
        "y_train_class = np_utils.to_categorical(y_train, 10)\n",
        "y_test_class = np_utils.to_categorical(y_test, 10)\n",
        "\n",
        "print('Image shape: {0}'.format(x_train.shape[1:]))\n",
        "print('Total number of training samples: {0}'.format(x_train.shape[0]))\n",
        "print('Total number of validation samples: {0}'.format(x_test.shape[0]))"
      ],
      "execution_count": null,
      "outputs": [
        {
          "output_type": "stream",
          "text": [
            "Downloading data from https://storage.googleapis.com/tensorflow/tf-keras-datasets/mnist.npz\n",
            "11493376/11490434 [==============================] - 0s 0us/step\n",
            "Image shape: (28, 28, 1)\n",
            "Total number of training samples: 60000\n",
            "Total number of validation samples: 10000\n"
          ],
          "name": "stdout"
        }
      ]
    },
    {
      "cell_type": "markdown",
      "metadata": {
        "id": "4Wp29GszMO-j"
      },
      "source": [
        "As illustrated in the cell, this time the input image before the model is 28x28x1. \n",
        "\n",
        "Now we can define a model composed of convolutional layers, activation functions, and maxpool operators:"
      ]
    },
    {
      "cell_type": "code",
      "metadata": {
        "id": "B78NUAqwMeFR"
      },
      "source": [
        "model = Sequential()\n",
        "model.add(Conv2D(16, (3,3), padding='same', input_shape=x_train.shape[1:]))\n",
        "model.add(Activation('relu'))\n",
        "model.add(MaxPooling2D(pool_size=(2,2)))\n",
        "model.add(Conv2D(16, (3,3), padding='same'))\n",
        "model.add(Activation('relu'))\n",
        "model.add(MaxPooling2D(pool_size=(2,2)))"
      ],
      "execution_count": null,
      "outputs": []
    },
    {
      "cell_type": "markdown",
      "metadata": {
        "id": "BX_KAFlBMnVZ"
      },
      "source": [
        "As explained in the previous tutorial, in a classification problem, the output of the model is a probability vector. Each dimension of the vector indicates how likely is that the input image belongs to a specific class. \n",
        "\n",
        "Up to now, the resulting feature map of the model is a map with the shape *Batch x Weight' x Height' x Channel*, and it needs to be mapped into a vector with shape *Batch x Num Classes*. A common technique to process this mapping is to add a Flatten layer that will reshape the feature map to *Batch x (Weight' * Height' * Channel)*. Following the Flatten layer, we add a dense layer which maps this new feature map to the desired output size. "
      ]
    },
    {
      "cell_type": "code",
      "metadata": {
        "id": "3CAc1r2vOJQv"
      },
      "source": [
        "model.add(Flatten())\n",
        "model.add(Dense(10))\n",
        "model.add(Activation('softmax'))"
      ],
      "execution_count": null,
      "outputs": []
    },
    {
      "cell_type": "markdown",
      "metadata": {
        "id": "aHInEJ-aON5v"
      },
      "source": [
        "Let's visualize the output shape in each layer."
      ]
    },
    {
      "cell_type": "code",
      "metadata": {
        "id": "UD4NZtIxOTbY",
        "colab": {
          "base_uri": "https://localhost:8080/"
        },
        "outputId": "92c15390-188f-4d7e-c498-cfe4cd56e4e2"
      },
      "source": [
        "model.summary()"
      ],
      "execution_count": null,
      "outputs": [
        {
          "output_type": "stream",
          "text": [
            "Model: \"sequential\"\n",
            "_________________________________________________________________\n",
            "Layer (type)                 Output Shape              Param #   \n",
            "=================================================================\n",
            "conv2d (Conv2D)              (None, 28, 28, 16)        160       \n",
            "_________________________________________________________________\n",
            "activation (Activation)      (None, 28, 28, 16)        0         \n",
            "_________________________________________________________________\n",
            "max_pooling2d (MaxPooling2D) (None, 14, 14, 16)        0         \n",
            "_________________________________________________________________\n",
            "conv2d_1 (Conv2D)            (None, 14, 14, 16)        2320      \n",
            "_________________________________________________________________\n",
            "activation_1 (Activation)    (None, 14, 14, 16)        0         \n",
            "_________________________________________________________________\n",
            "max_pooling2d_1 (MaxPooling2 (None, 7, 7, 16)          0         \n",
            "_________________________________________________________________\n",
            "flatten (Flatten)            (None, 784)               0         \n",
            "_________________________________________________________________\n",
            "dense (Dense)                (None, 10)                7850      \n",
            "_________________________________________________________________\n",
            "activation_2 (Activation)    (None, 10)                0         \n",
            "=================================================================\n",
            "Total params: 10,330\n",
            "Trainable params: 10,330\n",
            "Non-trainable params: 0\n",
            "_________________________________________________________________\n"
          ],
          "name": "stdout"
        }
      ]
    },
    {
      "cell_type": "markdown",
      "metadata": {
        "id": "_F66ds58OTBu"
      },
      "source": [
        "Finally, we can train our CNN and check its performance on MNIST. "
      ]
    },
    {
      "cell_type": "code",
      "metadata": {
        "id": "BmeolsG_Pi8A",
        "colab": {
          "base_uri": "https://localhost:8080/"
        },
        "outputId": "ce992818-f5c4-49a2-f27b-1500b222e839"
      },
      "source": [
        "# initiate RMSprop optimizer\n",
        "opt = RMSprop(lr=0.0001, decay=1e-6)\n",
        "\n",
        "model.compile(loss='categorical_crossentropy',\n",
        "              optimizer=opt,\n",
        "              metrics=['accuracy'])\n",
        "\n",
        "model.fit(x_train, y_train_class, batch_size=32, epochs=10,  verbose=0)\n",
        "\n",
        "score = model.evaluate(x_test, y_test_class, verbose=0)\n",
        "print('Validation loss:', score[0])\n",
        "print('Validation accuracy:', score[1])"
      ],
      "execution_count": null,
      "outputs": [
        {
          "output_type": "stream",
          "text": [
            "Validation loss: 0.08394194394350052\n",
            "Validation accuracy: 0.9743000268936157\n"
          ],
          "name": "stdout"
        }
      ]
    },
    {
      "cell_type": "markdown",
      "metadata": {
        "id": "Q0ZorPBtpLlZ"
      },
      "source": [
        "# Coursework\n"
      ]
    },
    {
      "cell_type": "markdown",
      "metadata": {
        "id": "2gkM3dPZbNcX"
      },
      "source": [
        "## Task 1: Classification\n",
        "\n",
        "At this point, we know what is a CNN, how they work, and the components needed to design them. In this first task, we want you to create a CNN that is able to outperform the Multi-layer Perceptron model from Tutorial 1. For the first part of the coursework, we train on CIFAR10, a  classical dataset for image classification. Note that in these tutorials, we mainly use the official test sets of several standard datasets as our validation data. The reason we use the given test sets as validation data for the tutorials is that is an easy way to make sure that we all work with the same split and report results using the same data. However, in a proper machine learning setup, your validation set should be separate from the test set, so you can tune the model/parameters on the validation set and then check the final performance in the test set. Thus, even though the variables are `x_test` and `y_test`, they represent our validation set.\n",
        "\n",
        "Let's first load the dataset and visualise some examples:"
      ]
    },
    {
      "cell_type": "code",
      "metadata": {
        "id": "zKWvv0VwZPH3",
        "colab": {
          "base_uri": "https://localhost:8080/",
          "height": 322
        },
        "outputId": "8771ffa0-3dd3-45c3-8766-06c729c92028"
      },
      "source": [
        "import matplotlib.pyplot as plt\n",
        "import numpy as np\n",
        "import tensorflow as tf\n",
        "tf.compat.v1.logging.set_verbosity(tf.compat.v1.logging.ERROR)\n",
        "from keras.models import Sequential\n",
        "from keras.layers import Dense, Dropout, Activation\n",
        "from keras.utils import np_utils\n",
        "from keras.datasets import cifar10\n",
        "from keras.optimizers import RMSprop\n",
        "\n",
        "# the data, shuffled and split between train and test sets\n",
        "# Here we are using the official test set as our validation set, in further\n",
        "# tutorials, test and validation splits will be explained properly.\n",
        "# Hence, even though the variables are `x_test` and `y_test`, they represent our validation set\n",
        "(X_train, y_train), (X_test, y_test) = cifar10.load_data()\n",
        "\n",
        "print('Image shape: {0}'.format(X_train.shape[1:]))\n",
        "print('Total number of training samples: {0}'.format(X_train.shape[0]))\n",
        "print('Total number of validation samples: {0}'.format(X_test.shape[0]))\n",
        "\n",
        "# Let's visualize some examples\n",
        "N=5\n",
        "start_val = 0 # pick an element for the code to plot the following N**2 values\n",
        "fig, axes = plt.subplots(N,N)\n",
        "items = list(range(0, 10))\n",
        "for row in range(N):\n",
        "  for col in range(N):\n",
        "    idx = start_val+row+N*col\n",
        "    axes[row,col].imshow(X_train[idx], cmap='gray')\n",
        "    fig.subplots_adjust(hspace=0.5)\n",
        "    y_target = int(y_train[idx])\n",
        "    target = str(items[y_target])\n",
        "    axes[row,col].set_title(target)\n",
        "    axes[row,col].set_xticks([])\n",
        "    axes[row,col].set_yticks([])"
      ],
      "execution_count": null,
      "outputs": [
        {
          "output_type": "stream",
          "text": [
            "Image shape: (32, 32, 3)\n",
            "Total number of training samples: 50000\n",
            "Total number of validation samples: 10000\n"
          ],
          "name": "stdout"
        },
        {
          "output_type": "display_data",
          "data": {
            "image/png": "[encoded data removed]",
            "text/plain": [
              "<Figure size 432x288 with 25 Axes>"
            ]
          },
          "metadata": {
            "tags": []
          }
        }
      ]
    },
    {
      "cell_type": "markdown",
      "metadata": {
        "id": "-p9uVP3pccOW"
      },
      "source": [
        "CIFAR10 contains 50,000 32x32 color training images, labeled over 10 categories and 10,000 test images. As mentioned, we use those test images as our validation set in this tutorial. We need to preprocess the images for the 1D neural network defined in the previous tutorial:"
      ]
    },
    {
      "cell_type": "code",
      "metadata": {
        "id": "bFurVCqpclnm",
        "colab": {
          "base_uri": "https://localhost:8080/"
        },
        "outputId": "5226fee6-23bc-43fd-c722-617ff31feec6"
      },
      "source": [
        "# Preprocess dataset for a 1D neural network\n",
        "X_train = X_train.astype('float32')\n",
        "X_test = X_test.astype('float32')\n",
        "\n",
        "# Normalize the image\n",
        "X_train /= 255\n",
        "X_test /= 255\n",
        "\n",
        "X_train_flatten = X_train.reshape(X_train.shape[0], X_train.shape[1] * X_train.shape[2]*3)\n",
        "X_test_flatten = X_test.reshape(X_test.shape[0], X_test.shape[1] * X_test.shape[2]*3)\n",
        "\n",
        "print('New X_train shape: {0}'.format(X_train_flatten.shape))\n",
        "\n",
        "Y_train_class = np_utils.to_categorical(y_train, 10)\n",
        "Y_test_class = np_utils.to_categorical(y_test, 10)\n",
        "\n",
        "print('New Y_train shape: {0}'.format(Y_train_class.shape))\n"
      ],
      "execution_count": null,
      "outputs": [
        {
          "output_type": "stream",
          "text": [
            "New X_train shape: (50000, 3072)\n",
            "New Y_train shape: (50000, 10)\n"
          ],
          "name": "stdout"
        }
      ]
    },
    {
      "cell_type": "markdown",
      "metadata": {
        "id": "mxFx2s3Fc6wM"
      },
      "source": [
        "Now, we are ready to define the Multi-layer Perceptron model and train it."
      ]
    },
    {
      "cell_type": "code",
      "metadata": {
        "id": "KEZW-1pxbKlC",
        "colab": {
          "base_uri": "https://localhost:8080/"
        },
        "outputId": "c146e6d1-d6b0-4ece-def7-c7348c30551f"
      },
      "source": [
        "model = Sequential()\n",
        "\n",
        "model.add(Dense(32, activation='relu', input_shape=(X_train_flatten.shape[1:])))\n",
        "model.add(Dense(64, activation='relu'))\n",
        "model.add(Dense(128, activation='relu'))\n",
        "model.add(Dense(256, activation='relu'))\n",
        "model.add(Dense(512, activation='relu'))\n",
        "model.add(Dense(10, activation='softmax'))\n",
        "\n",
        "# initiate RMSprop optimizer\n",
        "opt = RMSprop(lr=0.0001, decay=1e-6)\n",
        "\n",
        "# Let's train the model using RMSprop\n",
        "model.compile(loss='categorical_crossentropy',\n",
        "              optimizer=opt,\n",
        "              metrics=['accuracy'])\n",
        "\n",
        "model.fit(X_train_flatten, Y_train_class, batch_size=32, epochs=20)\n",
        "\n",
        "score = model.evaluate(X_test_flatten, Y_test_class, verbose=0)\n",
        "print('Validation loss:', score[0])\n",
        "print('Validation accuracy:', score[1])"
      ],
      "execution_count": null,
      "outputs": [
        {
          "output_type": "stream",
          "text": [
            "Epoch 1/20\n",
            "1563/1563 [==============================] - 6s 4ms/step - loss: 2.0479 - accuracy: 0.2362\n",
            "Epoch 2/20\n",
            "1563/1563 [==============================] - 6s 4ms/step - loss: 1.7793 - accuracy: 0.3563\n",
            "Epoch 3/20\n",
            "1563/1563 [==============================] - 6s 4ms/step - loss: 1.6936 - accuracy: 0.3909\n",
            "Epoch 4/20\n",
            "1563/1563 [==============================] - 6s 4ms/step - loss: 1.6421 - accuracy: 0.4085\n",
            "Epoch 5/20\n",
            "1563/1563 [==============================] - 6s 4ms/step - loss: 1.5967 - accuracy: 0.4245\n",
            "Epoch 6/20\n",
            "1563/1563 [==============================] - 6s 4ms/step - loss: 1.5629 - accuracy: 0.4399\n",
            "Epoch 7/20\n",
            "1563/1563 [==============================] - 6s 4ms/step - loss: 1.5393 - accuracy: 0.4471\n",
            "Epoch 8/20\n",
            "1563/1563 [==============================] - 6s 4ms/step - loss: 1.5119 - accuracy: 0.4595\n",
            "Epoch 9/20\n",
            "1563/1563 [==============================] - 6s 4ms/step - loss: 1.4797 - accuracy: 0.4699\n",
            "Epoch 10/20\n",
            "1563/1563 [==============================] - 6s 4ms/step - loss: 1.4686 - accuracy: 0.4746\n",
            "Epoch 11/20\n",
            "1563/1563 [==============================] - 6s 4ms/step - loss: 1.4503 - accuracy: 0.4822\n",
            "Epoch 12/20\n",
            "1563/1563 [==============================] - 6s 4ms/step - loss: 1.4237 - accuracy: 0.4901\n",
            "Epoch 13/20\n",
            "1563/1563 [==============================] - 6s 4ms/step - loss: 1.4241 - accuracy: 0.4942\n",
            "Epoch 14/20\n",
            "1563/1563 [==============================] - 6s 4ms/step - loss: 1.4023 - accuracy: 0.4950\n",
            "Epoch 15/20\n",
            "1563/1563 [==============================] - 6s 4ms/step - loss: 1.3772 - accuracy: 0.5062\n",
            "Epoch 16/20\n",
            "1563/1563 [==============================] - 6s 4ms/step - loss: 1.3757 - accuracy: 0.5073\n",
            "Epoch 17/20\n",
            "1563/1563 [==============================] - 6s 4ms/step - loss: 1.3564 - accuracy: 0.5168\n",
            "Epoch 18/20\n",
            "1563/1563 [==============================] - 5s 3ms/step - loss: 1.3609 - accuracy: 0.5118\n",
            "Epoch 19/20\n",
            "1563/1563 [==============================] - 5s 3ms/step - loss: 1.3362 - accuracy: 0.5215\n",
            "Epoch 20/20\n",
            "1563/1563 [==============================] - 6s 4ms/step - loss: 1.3162 - accuracy: 0.5254\n",
            "Validation loss: 1.4244304895401\n",
            "Validation accuracy: 0.4925999939441681\n"
          ],
          "name": "stdout"
        }
      ]
    },
    {
      "cell_type": "markdown",
      "metadata": {
        "id": "CEuYNmyHlVJd"
      },
      "source": [
        "### Problem Definition\n",
        "\n",
        "In this exercise, you are asked to test several CNN architectures in the code provided below. Do not modify the optimizer, loss used or parameters related to the training such as the learning rate, they will be investigated in future tutorials. You must focus on the architecture itself: number of convolutional layers, number of filters in every layer, activation functions, pooling operators, among others. Batch Normalization and Dropout layers, which are quite used in CNN architectures, will be also investigated in a future tutorial so you do not have to discuss them.\n",
        "\n",
        "\n",
        "**Report**:\n",
        "*   Present a bar figure with the training and validation accuracies for different design choices. Discuss only the parameters that have a significant influence on the network's performance. Explain any discrepancy between training and validation accuracies.\n",
        "*   Present a sketch that introduces your best architecture. See some examples on how to display networks in [cv-tricks' blog](https://cv-tricks.com/cnn/understand-resnet-alexnet-vgg-inception/).\n"
      ]
    },
    {
      "cell_type": "code",
      "metadata": {
        "id": "r8ATD38dDM1q"
      },
      "source": [
        "import tensorflow as tf\n",
        "tf.compat.v1.logging.set_verbosity(tf.compat.v1.logging.ERROR)\n",
        "from keras.models import Sequential\n",
        "from keras.layers import Dense, Activation\n",
        "from keras.utils import np_utils\n",
        "from keras.datasets import cifar10\n",
        "from keras.optimizers import RMSprop\n",
        "from keras.layers import Conv2D, MaxPooling2D, Flatten\n",
        "\n",
        "# the data, shuffled and split between train and val sets\n",
        "# Here we are using the official test set as our validation set, in further\n",
        "# tutorials, test and validation splits will be explained properly.\n",
        "# Hence, even though the variables are `x_test` and `y_test`, they represent our validation set\n",
        "(x_train, y_train), (x_test, y_test) = cifar10.load_data()\n",
        "\n",
        "print('Image shape: {0}'.format(x_train.shape[1:]))\n",
        "print('Total number of training samples: {0}'.format(x_train.shape[0]))\n",
        "print('Total number of validation samples: {0}'.format(x_test.shape[0]))\n",
        "\n",
        "x_train = x_train.astype('float32')\n",
        "x_test = x_test.astype('float32')\n",
        "\n",
        "# Normalize the image\n",
        "x_train /= 255\n",
        "x_test /= 255\n",
        "\n",
        "y_train_class = np_utils.to_categorical(y_train, 10)\n",
        "y_test_class = np_utils.to_categorical(y_test, 10)\n",
        "\n",
        "\n",
        "# . . . \n",
        "\n",
        "\n",
        "# Define here your architecture\n",
        "\n",
        "\n",
        "# . . . \n",
        "\n",
        "\n",
        "# initiate RMSprop optimizer\n",
        "opt = RMSprop(lr=0.0001, decay=1e-6)\n",
        "\n",
        "model.compile(loss='categorical_crossentropy', optimizer=opt, metrics=['accuracy'])\n",
        "\n",
        "model.fit(x_train, y_train_class, batch_size=32, epochs=20)\n",
        "\n",
        "score = model.evaluate(x_test, y_test_class, verbose=0)\n",
        "print('Validation loss:', score[0])\n",
        "print('Validation accuracy:', score[1])"
      ],
      "execution_count": null,
      "outputs": []
    },
    {
      "cell_type": "markdown",
      "metadata": {
        "id": "3w8eUV9RDPkL"
      },
      "source": [
        "\n",
        "---\n",
        "---\n",
        "\n",
        "## Task 2: Regression\n",
        "\n",
        "Now we face a regression task instead of a classification problem. Loss function, activations, and dataset will change in the following task. Thus, instead of having one vector with the probabilities of each class, in this regression problem, the output is a single scalar. \n",
        "\n",
        "For this second task, we chose the task of estimating house prices based on input images. To get the data run the following script, which clones Ahmed and Moustafa’s [repository](https://github.com/emanhamed/Houses-dataset) into colmap."
      ]
    },
    {
      "cell_type": "code",
      "metadata": {
        "id": "Ibukle2ODMEp",
        "outputId": "ecc650a6-92a4-4ce4-e8f4-611ab73e90b1",
        "colab": {
          "base_uri": "https://localhost:8080/"
        }
      },
      "source": [
        "!git clone https://github.com/emanhamed/Houses-dataset\n",
        "%cd /content/Houses-dataset/Houses\\ Dataset"
      ],
      "execution_count": 2,
      "outputs": [
        {
          "output_type": "stream",
          "text": [
            "Cloning into 'Houses-dataset'...\n",
            "remote: Enumerating objects: 2166, done.\u001b[K\n",
            "remote: Total 2166 (delta 0), reused 0 (delta 0), pack-reused 2166\u001b[K\n",
            "Receiving objects: 100% (2166/2166), 176.26 MiB | 42.54 MiB/s, done.\n",
            "Resolving deltas: 100% (20/20), done.\n",
            "/content/Houses-dataset/Houses Dataset\n"
          ],
          "name": "stdout"
        }
      ]
    },
    {
      "cell_type": "markdown",
      "metadata": {
        "id": "Ye6xldkVEV-t"
      },
      "source": [
        "This dataset contains four images of the house (kitchen, frontal, bedroom and bathroom), and attributes (number of bedrooms, number of bathrooms, zip code...). For our exercise, we only use the images of the house. We start with front door images. "
      ]
    },
    {
      "cell_type": "code",
      "metadata": {
        "id": "71urud9ZHq9d",
        "colab": {
          "base_uri": "https://localhost:8080/",
          "height": 305
        },
        "outputId": "df50777e-8dc2-4fca-aa6c-99ad099931de"
      },
      "source": [
        "import cv2\n",
        "import numpy as np\n",
        "import matplotlib.pyplot as plt\n",
        "from numpy.random import seed\n",
        "\n",
        "house_section = 'frontal' # select between: kitchen, frontal, bedroom or bathroom\n",
        "print('We have selected {} images. You can switch to the kitchen, frontal, bedroom or bathroom images by changing house_section variable.'.format(house_section))\n",
        "images = []\n",
        "for i_im in range(1, 536):\n",
        "  image = cv2.imread(str(i_im)+'_'+house_section+'.jpg')\n",
        "  image = cv2.resize(image, (64, 64))\n",
        "  images.append(image)\n",
        "\n",
        "labels = []\n",
        "f = open('HousesInfo.txt', \"r\")\n",
        "for x in f:\n",
        "  label = (x).split(' ')[-1].split('\\n')[0]\n",
        "  labels.append(label)\n",
        "\n",
        "# Let's visualize some examples\n",
        "N=3\n",
        "start_val = 0 # pick an element for the code to plot the following N**2 values\n",
        "fig, axes = plt.subplots(N,N)\n",
        "for row in range(N):\n",
        "  for col in range(N):\n",
        "    idx = start_val+row+N*col    \n",
        "    tmp = cv2.cvtColor(images[idx],cv2.COLOR_BGR2RGB)\n",
        "    axes[row,col].imshow(tmp, cmap='gray')\n",
        "    fig.subplots_adjust(hspace=0.5)\n",
        "    target = int(labels[idx])\n",
        "    axes[row,col].set_title(str(target) + '$')\n",
        "    axes[row,col].set_xticks([])\n",
        "    axes[row,col].set_yticks([])"
      ],
      "execution_count": 3,
      "outputs": [
        {
          "output_type": "stream",
          "text": [
            "We have selected frontal images. You can switch to the kitchen, frontal, bedroom or bathroom images by changing house_section variable.\n"
          ],
          "name": "stdout"
        },
        {
          "output_type": "display_data",
          "data": {
            "image/png": "[encoded data removed]",
            "text/plain": [
              "<Figure size 432x288 with 9 Axes>"
            ]
          },
          "metadata": {
            "tags": []
          }
        }
      ]
    },
    {
      "cell_type": "markdown",
      "metadata": {
        "id": "scNfczb73nGS"
      },
      "source": [
        "Prepare the dataset for training the model:"
      ]
    },
    {
      "cell_type": "code",
      "metadata": {
        "id": "FORNJ1QU2L-t",
        "colab": {
          "base_uri": "https://localhost:8080/"
        },
        "outputId": "c66273b4-d64b-4be0-bf58-19d97bb56da2"
      },
      "source": [
        "seed(1234)\n",
        "images = np.asarray(images).astype('float32')\n",
        "labels = np.asarray(labels).astype('float32')\n",
        "\n",
        "# Normalize the image\n",
        "max_price = labels.max()\n",
        "images /= 255.\n",
        "labels /= max_price\n",
        "\n",
        "random_idx = np.random.permutation(len(images))\n",
        "images = images[random_idx]\n",
        "labels = labels[random_idx]\n",
        "\n",
        "split_size_val = int(0.8*len(images))\n",
        "X_train, X_val = images[:split_size_val], images[split_size_val+1:]\n",
        "Y_train, Y_val = labels[:split_size_val], labels[split_size_val+1:]\n",
        "\n",
        "# Print shape of training and val images \n",
        "print('X_train image shape: {0}'.format(X_train.shape))\n",
        "print('X_val image shape: {0}'.format(X_val.shape))\n",
        "\n",
        "# Print shape of training and val labels \n",
        "print('Y_train labels shape: {0}'.format(Y_train.shape))\n",
        "print('Y_val labels shape: {0}'.format(Y_val.shape))"
      ],
      "execution_count": 4,
      "outputs": [
        {
          "output_type": "stream",
          "text": [
            "X_train image shape: (428, 64, 64, 3)\n",
            "X_val image shape: (106, 64, 64, 3)\n",
            "Y_train labels shape: (428,)\n",
            "Y_val labels shape: (106,)\n"
          ],
          "name": "stdout"
        }
      ]
    },
    {
      "cell_type": "markdown",
      "metadata": {
        "id": "JGC6dXqdM2eU"
      },
      "source": [
        "### Problem Definition\n",
        "\n",
        "Similar to the previous task, you are asked to design a CNN architecture able to perform the estimation of house prices based on the `frontal` house image. Design a new model by changing parameters such as the number of convolutional layers, activation functions, strides, or pooling operators, among others."
      ]
    },
    {
      "cell_type": "code",
      "metadata": {
        "id": "YE8g42x3M2Ko",
        "outputId": "e5caf31f-7dfa-4579-ea53-fbfc2ccaa30d",
        "colab": {
          "base_uri": "https://localhost:8080/"
        }
      },
      "source": [
        "import tensorflow as tf\n",
        "tf.compat.v1.logging.set_verbosity(tf.compat.v1.logging.ERROR)\n",
        "from keras.models import Sequential\n",
        "from keras.layers import Dense, Activation\n",
        "from keras.utils import np_utils\n",
        "from keras.optimizers import Adam\n",
        "from keras.layers import Conv2D, MaxPooling2D, Flatten\n",
        "tf.random.set_seed(1234)\n",
        "\n",
        "chanDim = -1\n",
        "model = Sequential()\n",
        "model.add(Conv2D(4, (3,3), padding='same', input_shape=X_train.shape[1:]))\n",
        "model.add(Activation('relu'))\n",
        "model.add(MaxPooling2D(pool_size=(2,2)))\n",
        "model.add(Conv2D(8, (3,3), padding='same', input_shape=X_train.shape[1:]))\n",
        "model.add(Activation('relu'))\n",
        "model.add(MaxPooling2D(pool_size=(2,2)))\n",
        "model.add(Conv2D(16, (3,3), padding='same', input_shape=X_train.shape[1:]))\n",
        "model.add(Activation('relu'))\n",
        "model.add(MaxPooling2D(pool_size=(2,2)))\n",
        "model.add(Flatten())\n",
        "model.add(Dense(1))\n",
        "model.summary()\n",
        "opt = Adam(lr=1e-3, decay=1e-3 / 200)\n",
        "model.compile(loss=\"mean_absolute_percentage_error\", optimizer=opt, metrics=['mean_absolute_percentage_error'])\n",
        "\n",
        "# train the model\n",
        "print(\"[INFO] training model...\")\n",
        "history=model.fit(X_train, Y_train, validation_data=(X_val, Y_val), epochs=100, batch_size=32)\n",
        "score1 = model.evaluate(X_train, Y_train, verbose=0)\n",
        "print('Training loss:', score1[0])\n",
        "score2 = model.evaluate(X_val, Y_val, verbose=0)\n",
        "print('Validation loss:', score2[0])\n",
        "prices_predicted = model.predict(X_val).flatten()\n",
        "diff = ((prices_predicted - Y_val) / Y_val) * 100\n",
        "error_mean = np.mean(np.abs(diff))\n",
        "\n",
        "print(\"Predicting house prices - Estimation Error: {:.2f}%\".format(error_mean))"
      ],
      "execution_count": 5,
      "outputs": [
        {
          "output_type": "stream",
          "text": [
            "Model: \"sequential_1\"\n",
            "_________________________________________________________________\n",
            "Layer (type)                 Output Shape              Param #   \n",
            "=================================================================\n",
            "conv2d (Conv2D)              (None, 64, 64, 4)         112       \n",
            "_________________________________________________________________\n",
            "activation (Activation)      (None, 64, 64, 4)         0         \n",
            "_________________________________________________________________\n",
            "max_pooling2d (MaxPooling2D) (None, 32, 32, 4)         0         \n",
            "_________________________________________________________________\n",
            "conv2d_1 (Conv2D)            (None, 32, 32, 8)         296       \n",
            "_________________________________________________________________\n",
            "activation_1 (Activation)    (None, 32, 32, 8)         0         \n",
            "_________________________________________________________________\n",
            "max_pooling2d_1 (MaxPooling2 (None, 16, 16, 8)         0         \n",
            "_________________________________________________________________\n",
            "conv2d_2 (Conv2D)            (None, 16, 16, 16)        1168      \n",
            "_________________________________________________________________\n",
            "activation_2 (Activation)    (None, 16, 16, 16)        0         \n",
            "_________________________________________________________________\n",
            "max_pooling2d_2 (MaxPooling2 (None, 8, 8, 16)          0         \n",
            "_________________________________________________________________\n",
            "flatten (Flatten)            (None, 1024)              0         \n",
            "_________________________________________________________________\n",
            "dense (Dense)                (None, 1)                 1025      \n",
            "=================================================================\n",
            "Total params: 2,601\n",
            "Trainable params: 2,601\n",
            "Non-trainable params: 0\n",
            "_________________________________________________________________\n",
            "[INFO] training model...\n",
            "Epoch 1/100\n",
            "14/14 [==============================] - 8s 27ms/step - loss: 682.8968 - mean_absolute_percentage_error: 682.8968 - val_loss: 210.2445 - val_mean_absolute_percentage_error: 210.2445\n",
            "Epoch 2/100\n",
            "14/14 [==============================] - 0s 7ms/step - loss: 150.2265 - mean_absolute_percentage_error: 150.2265 - val_loss: 72.7660 - val_mean_absolute_percentage_error: 72.7660\n",
            "Epoch 3/100\n",
            "14/14 [==============================] - 0s 7ms/step - loss: 101.8040 - mean_absolute_percentage_error: 101.8040 - val_loss: 81.2336 - val_mean_absolute_percentage_error: 81.2336\n",
            "Epoch 4/100\n",
            "14/14 [==============================] - 0s 7ms/step - loss: 86.5076 - mean_absolute_percentage_error: 86.5076 - val_loss: 66.4943 - val_mean_absolute_percentage_error: 66.4943\n",
            "Epoch 5/100\n",
            "14/14 [==============================] - 0s 7ms/step - loss: 78.1006 - mean_absolute_percentage_error: 78.1006 - val_loss: 64.2291 - val_mean_absolute_percentage_error: 64.2291\n",
            "Epoch 6/100\n",
            "14/14 [==============================] - 0s 7ms/step - loss: 72.2387 - mean_absolute_percentage_error: 72.2387 - val_loss: 59.8351 - val_mean_absolute_percentage_error: 59.8351\n",
            "Epoch 7/100\n",
            "14/14 [==============================] - 0s 7ms/step - loss: 62.0665 - mean_absolute_percentage_error: 62.0665 - val_loss: 58.5013 - val_mean_absolute_percentage_error: 58.5013\n",
            "Epoch 8/100\n",
            "14/14 [==============================] - 0s 7ms/step - loss: 62.9138 - mean_absolute_percentage_error: 62.9138 - val_loss: 65.4479 - val_mean_absolute_percentage_error: 65.4479\n",
            "Epoch 9/100\n",
            "14/14 [==============================] - 0s 7ms/step - loss: 71.3877 - mean_absolute_percentage_error: 71.3877 - val_loss: 58.2278 - val_mean_absolute_percentage_error: 58.2278\n",
            "Epoch 10/100\n",
            "14/14 [==============================] - 0s 8ms/step - loss: 60.2080 - mean_absolute_percentage_error: 60.2080 - val_loss: 62.8034 - val_mean_absolute_percentage_error: 62.8034\n",
            "Epoch 11/100\n",
            "14/14 [==============================] - 0s 7ms/step - loss: 57.3368 - mean_absolute_percentage_error: 57.3368 - val_loss: 61.8266 - val_mean_absolute_percentage_error: 61.8266\n",
            "Epoch 12/100\n",
            "14/14 [==============================] - 0s 7ms/step - loss: 57.2675 - mean_absolute_percentage_error: 57.2675 - val_loss: 68.8659 - val_mean_absolute_percentage_error: 68.8659\n",
            "Epoch 13/100\n",
            "14/14 [==============================] - 0s 7ms/step - loss: 73.3127 - mean_absolute_percentage_error: 73.3127 - val_loss: 57.0937 - val_mean_absolute_percentage_error: 57.0937\n",
            "Epoch 14/100\n",
            "14/14 [==============================] - 0s 7ms/step - loss: 60.8528 - mean_absolute_percentage_error: 60.8528 - val_loss: 61.2211 - val_mean_absolute_percentage_error: 61.2211\n",
            "Epoch 15/100\n",
            "14/14 [==============================] - 0s 7ms/step - loss: 66.8957 - mean_absolute_percentage_error: 66.8957 - val_loss: 58.1651 - val_mean_absolute_percentage_error: 58.1651\n",
            "Epoch 16/100\n",
            "14/14 [==============================] - 0s 7ms/step - loss: 54.1928 - mean_absolute_percentage_error: 54.1928 - val_loss: 59.6018 - val_mean_absolute_percentage_error: 59.6018\n",
            "Epoch 17/100\n",
            "14/14 [==============================] - 0s 15ms/step - loss: 52.2277 - mean_absolute_percentage_error: 52.2277 - val_loss: 57.7355 - val_mean_absolute_percentage_error: 57.7355\n",
            "Epoch 18/100\n",
            "14/14 [==============================] - 0s 7ms/step - loss: 51.9332 - mean_absolute_percentage_error: 51.9332 - val_loss: 55.3429 - val_mean_absolute_percentage_error: 55.3429\n",
            "Epoch 19/100\n",
            "14/14 [==============================] - 0s 7ms/step - loss: 54.2801 - mean_absolute_percentage_error: 54.2801 - val_loss: 57.8898 - val_mean_absolute_percentage_error: 57.8898\n",
            "Epoch 20/100\n",
            "14/14 [==============================] - 0s 7ms/step - loss: 57.1295 - mean_absolute_percentage_error: 57.1295 - val_loss: 55.8797 - val_mean_absolute_percentage_error: 55.8797\n",
            "Epoch 21/100\n",
            "14/14 [==============================] - 0s 7ms/step - loss: 57.0482 - mean_absolute_percentage_error: 57.0482 - val_loss: 59.0292 - val_mean_absolute_percentage_error: 59.0292\n",
            "Epoch 22/100\n",
            "14/14 [==============================] - 0s 7ms/step - loss: 57.0145 - mean_absolute_percentage_error: 57.0145 - val_loss: 56.5196 - val_mean_absolute_percentage_error: 56.5196\n",
            "Epoch 23/100\n",
            "14/14 [==============================] - 0s 7ms/step - loss: 48.7634 - mean_absolute_percentage_error: 48.7634 - val_loss: 56.9100 - val_mean_absolute_percentage_error: 56.9100\n",
            "Epoch 24/100\n",
            "14/14 [==============================] - 0s 7ms/step - loss: 45.2342 - mean_absolute_percentage_error: 45.2342 - val_loss: 56.3397 - val_mean_absolute_percentage_error: 56.3397\n",
            "Epoch 25/100\n",
            "14/14 [==============================] - 0s 7ms/step - loss: 44.8917 - mean_absolute_percentage_error: 44.8917 - val_loss: 56.2377 - val_mean_absolute_percentage_error: 56.2377\n",
            "Epoch 26/100\n",
            "14/14 [==============================] - 0s 7ms/step - loss: 43.5005 - mean_absolute_percentage_error: 43.5005 - val_loss: 55.1541 - val_mean_absolute_percentage_error: 55.1541\n",
            "Epoch 27/100\n",
            "14/14 [==============================] - 0s 7ms/step - loss: 43.7307 - mean_absolute_percentage_error: 43.7307 - val_loss: 55.4961 - val_mean_absolute_percentage_error: 55.4961\n",
            "Epoch 28/100\n",
            "14/14 [==============================] - 0s 7ms/step - loss: 43.1170 - mean_absolute_percentage_error: 43.1170 - val_loss: 55.0513 - val_mean_absolute_percentage_error: 55.0513\n",
            "Epoch 29/100\n",
            "14/14 [==============================] - 0s 7ms/step - loss: 40.8232 - mean_absolute_percentage_error: 40.8232 - val_loss: 58.3161 - val_mean_absolute_percentage_error: 58.3161\n",
            "Epoch 30/100\n",
            "14/14 [==============================] - 0s 7ms/step - loss: 46.1699 - mean_absolute_percentage_error: 46.1699 - val_loss: 54.9921 - val_mean_absolute_percentage_error: 54.9921\n",
            "Epoch 31/100\n",
            "14/14 [==============================] - 0s 7ms/step - loss: 42.4408 - mean_absolute_percentage_error: 42.4408 - val_loss: 58.4270 - val_mean_absolute_percentage_error: 58.4270\n",
            "Epoch 32/100\n",
            "14/14 [==============================] - 0s 7ms/step - loss: 41.5670 - mean_absolute_percentage_error: 41.5670 - val_loss: 54.3971 - val_mean_absolute_percentage_error: 54.3971\n",
            "Epoch 33/100\n",
            "14/14 [==============================] - 0s 7ms/step - loss: 44.2716 - mean_absolute_percentage_error: 44.2716 - val_loss: 55.2232 - val_mean_absolute_percentage_error: 55.2232\n",
            "Epoch 34/100\n",
            "14/14 [==============================] - 0s 8ms/step - loss: 43.3382 - mean_absolute_percentage_error: 43.3382 - val_loss: 56.3481 - val_mean_absolute_percentage_error: 56.3481\n",
            "Epoch 35/100\n",
            "14/14 [==============================] - 0s 7ms/step - loss: 45.7410 - mean_absolute_percentage_error: 45.7410 - val_loss: 56.3354 - val_mean_absolute_percentage_error: 56.3354\n",
            "Epoch 36/100\n",
            "14/14 [==============================] - 0s 8ms/step - loss: 39.6975 - mean_absolute_percentage_error: 39.6975 - val_loss: 59.2899 - val_mean_absolute_percentage_error: 59.2899\n",
            "Epoch 37/100\n",
            "14/14 [==============================] - 0s 7ms/step - loss: 41.6568 - mean_absolute_percentage_error: 41.6568 - val_loss: 55.0114 - val_mean_absolute_percentage_error: 55.0114\n",
            "Epoch 38/100\n",
            "14/14 [==============================] - 0s 7ms/step - loss: 37.9463 - mean_absolute_percentage_error: 37.9463 - val_loss: 56.7967 - val_mean_absolute_percentage_error: 56.7967\n",
            "Epoch 39/100\n",
            "14/14 [==============================] - 0s 7ms/step - loss: 38.0001 - mean_absolute_percentage_error: 38.0001 - val_loss: 54.3198 - val_mean_absolute_percentage_error: 54.3198\n",
            "Epoch 40/100\n",
            "14/14 [==============================] - 0s 7ms/step - loss: 38.4105 - mean_absolute_percentage_error: 38.4105 - val_loss: 54.0174 - val_mean_absolute_percentage_error: 54.0174\n",
            "Epoch 41/100\n",
            "14/14 [==============================] - 0s 7ms/step - loss: 38.5541 - mean_absolute_percentage_error: 38.5541 - val_loss: 57.7340 - val_mean_absolute_percentage_error: 57.7340\n",
            "Epoch 42/100\n",
            "14/14 [==============================] - 0s 7ms/step - loss: 38.1931 - mean_absolute_percentage_error: 38.1931 - val_loss: 55.5508 - val_mean_absolute_percentage_error: 55.5508\n",
            "Epoch 43/100\n",
            "14/14 [==============================] - 0s 7ms/step - loss: 41.2484 - mean_absolute_percentage_error: 41.2484 - val_loss: 58.3871 - val_mean_absolute_percentage_error: 58.3871\n",
            "Epoch 44/100\n",
            "14/14 [==============================] - 0s 7ms/step - loss: 39.6780 - mean_absolute_percentage_error: 39.6780 - val_loss: 57.1315 - val_mean_absolute_percentage_error: 57.1315\n",
            "Epoch 45/100\n",
            "14/14 [==============================] - 0s 7ms/step - loss: 40.9524 - mean_absolute_percentage_error: 40.9524 - val_loss: 55.1182 - val_mean_absolute_percentage_error: 55.1182\n",
            "Epoch 46/100\n",
            "14/14 [==============================] - 0s 7ms/step - loss: 35.3761 - mean_absolute_percentage_error: 35.3761 - val_loss: 54.6454 - val_mean_absolute_percentage_error: 54.6454\n",
            "Epoch 47/100\n",
            "14/14 [==============================] - 0s 7ms/step - loss: 33.8899 - mean_absolute_percentage_error: 33.8899 - val_loss: 55.8166 - val_mean_absolute_percentage_error: 55.8166\n",
            "Epoch 48/100\n",
            "14/14 [==============================] - 0s 7ms/step - loss: 38.9769 - mean_absolute_percentage_error: 38.9769 - val_loss: 56.0521 - val_mean_absolute_percentage_error: 56.0521\n",
            "Epoch 49/100\n",
            "14/14 [==============================] - 0s 7ms/step - loss: 37.5007 - mean_absolute_percentage_error: 37.5007 - val_loss: 52.5845 - val_mean_absolute_percentage_error: 52.5845\n",
            "Epoch 50/100\n",
            "14/14 [==============================] - 0s 8ms/step - loss: 34.5728 - mean_absolute_percentage_error: 34.5728 - val_loss: 54.2440 - val_mean_absolute_percentage_error: 54.2440\n",
            "Epoch 51/100\n",
            "14/14 [==============================] - 0s 7ms/step - loss: 33.9429 - mean_absolute_percentage_error: 33.9429 - val_loss: 55.3119 - val_mean_absolute_percentage_error: 55.3119\n",
            "Epoch 52/100\n",
            "14/14 [==============================] - 0s 7ms/step - loss: 39.5480 - mean_absolute_percentage_error: 39.5480 - val_loss: 52.8310 - val_mean_absolute_percentage_error: 52.8310\n",
            "Epoch 53/100\n",
            "14/14 [==============================] - 0s 7ms/step - loss: 34.6058 - mean_absolute_percentage_error: 34.6058 - val_loss: 56.2858 - val_mean_absolute_percentage_error: 56.2858\n",
            "Epoch 54/100\n",
            "14/14 [==============================] - 0s 7ms/step - loss: 35.1655 - mean_absolute_percentage_error: 35.1655 - val_loss: 52.1697 - val_mean_absolute_percentage_error: 52.1697\n",
            "Epoch 55/100\n",
            "14/14 [==============================] - 0s 7ms/step - loss: 37.7749 - mean_absolute_percentage_error: 37.7749 - val_loss: 54.0392 - val_mean_absolute_percentage_error: 54.0392\n",
            "Epoch 56/100\n",
            "14/14 [==============================] - 0s 8ms/step - loss: 36.7816 - mean_absolute_percentage_error: 36.7816 - val_loss: 52.8052 - val_mean_absolute_percentage_error: 52.8052\n",
            "Epoch 57/100\n",
            "14/14 [==============================] - 0s 8ms/step - loss: 37.6424 - mean_absolute_percentage_error: 37.6424 - val_loss: 57.3320 - val_mean_absolute_percentage_error: 57.3320\n",
            "Epoch 58/100\n",
            "14/14 [==============================] - 0s 8ms/step - loss: 35.8590 - mean_absolute_percentage_error: 35.8590 - val_loss: 52.9503 - val_mean_absolute_percentage_error: 52.9503\n",
            "Epoch 59/100\n",
            "14/14 [==============================] - 0s 15ms/step - loss: 34.5668 - mean_absolute_percentage_error: 34.5668 - val_loss: 53.9841 - val_mean_absolute_percentage_error: 53.9841\n",
            "Epoch 60/100\n",
            "14/14 [==============================] - 0s 7ms/step - loss: 31.4878 - mean_absolute_percentage_error: 31.4878 - val_loss: 53.6801 - val_mean_absolute_percentage_error: 53.6801\n",
            "Epoch 61/100\n",
            "14/14 [==============================] - 0s 7ms/step - loss: 32.4087 - mean_absolute_percentage_error: 32.4087 - val_loss: 51.8493 - val_mean_absolute_percentage_error: 51.8493\n",
            "Epoch 62/100\n",
            "14/14 [==============================] - 0s 8ms/step - loss: 31.0168 - mean_absolute_percentage_error: 31.0168 - val_loss: 53.2202 - val_mean_absolute_percentage_error: 53.2202\n",
            "Epoch 63/100\n",
            "14/14 [==============================] - 0s 7ms/step - loss: 36.2317 - mean_absolute_percentage_error: 36.2317 - val_loss: 51.5036 - val_mean_absolute_percentage_error: 51.5036\n",
            "Epoch 64/100\n",
            "14/14 [==============================] - 0s 8ms/step - loss: 31.9359 - mean_absolute_percentage_error: 31.9359 - val_loss: 54.6198 - val_mean_absolute_percentage_error: 54.6198\n",
            "Epoch 65/100\n",
            "14/14 [==============================] - 0s 7ms/step - loss: 35.6252 - mean_absolute_percentage_error: 35.6252 - val_loss: 51.2157 - val_mean_absolute_percentage_error: 51.2157\n",
            "Epoch 66/100\n",
            "14/14 [==============================] - 0s 7ms/step - loss: 32.8845 - mean_absolute_percentage_error: 32.8845 - val_loss: 53.4132 - val_mean_absolute_percentage_error: 53.4132\n",
            "Epoch 67/100\n",
            "14/14 [==============================] - 0s 7ms/step - loss: 31.3707 - mean_absolute_percentage_error: 31.3707 - val_loss: 53.5046 - val_mean_absolute_percentage_error: 53.5046\n",
            "Epoch 68/100\n",
            "14/14 [==============================] - 0s 7ms/step - loss: 31.9346 - mean_absolute_percentage_error: 31.9346 - val_loss: 54.9629 - val_mean_absolute_percentage_error: 54.9629\n",
            "Epoch 69/100\n",
            "14/14 [==============================] - 0s 7ms/step - loss: 29.7542 - mean_absolute_percentage_error: 29.7542 - val_loss: 52.6237 - val_mean_absolute_percentage_error: 52.6237\n",
            "Epoch 70/100\n",
            "14/14 [==============================] - 0s 7ms/step - loss: 32.0922 - mean_absolute_percentage_error: 32.0922 - val_loss: 52.1745 - val_mean_absolute_percentage_error: 52.1745\n",
            "Epoch 71/100\n",
            "14/14 [==============================] - 0s 7ms/step - loss: 32.8174 - mean_absolute_percentage_error: 32.8174 - val_loss: 54.3304 - val_mean_absolute_percentage_error: 54.3304\n",
            "Epoch 72/100\n",
            "14/14 [==============================] - 0s 8ms/step - loss: 32.9700 - mean_absolute_percentage_error: 32.9700 - val_loss: 51.4051 - val_mean_absolute_percentage_error: 51.4051\n",
            "Epoch 73/100\n",
            "14/14 [==============================] - 0s 8ms/step - loss: 30.2974 - mean_absolute_percentage_error: 30.2974 - val_loss: 51.1147 - val_mean_absolute_percentage_error: 51.1147\n",
            "Epoch 74/100\n",
            "14/14 [==============================] - 0s 7ms/step - loss: 30.4140 - mean_absolute_percentage_error: 30.4140 - val_loss: 59.1912 - val_mean_absolute_percentage_error: 59.1912\n",
            "Epoch 75/100\n",
            "14/14 [==============================] - 0s 8ms/step - loss: 33.3471 - mean_absolute_percentage_error: 33.3471 - val_loss: 50.9972 - val_mean_absolute_percentage_error: 50.9972\n",
            "Epoch 76/100\n",
            "14/14 [==============================] - 0s 7ms/step - loss: 33.1450 - mean_absolute_percentage_error: 33.1450 - val_loss: 53.0245 - val_mean_absolute_percentage_error: 53.0245\n",
            "Epoch 77/100\n",
            "14/14 [==============================] - 0s 8ms/step - loss: 33.1561 - mean_absolute_percentage_error: 33.1561 - val_loss: 52.6168 - val_mean_absolute_percentage_error: 52.6168\n",
            "Epoch 78/100\n",
            "14/14 [==============================] - 0s 7ms/step - loss: 31.0407 - mean_absolute_percentage_error: 31.0407 - val_loss: 52.9519 - val_mean_absolute_percentage_error: 52.9519\n",
            "Epoch 79/100\n",
            "14/14 [==============================] - 0s 7ms/step - loss: 29.9553 - mean_absolute_percentage_error: 29.9553 - val_loss: 50.5302 - val_mean_absolute_percentage_error: 50.5302\n",
            "Epoch 80/100\n",
            "14/14 [==============================] - 0s 7ms/step - loss: 27.1069 - mean_absolute_percentage_error: 27.1069 - val_loss: 50.9652 - val_mean_absolute_percentage_error: 50.9652\n",
            "Epoch 81/100\n",
            "14/14 [==============================] - 0s 8ms/step - loss: 29.5133 - mean_absolute_percentage_error: 29.5133 - val_loss: 53.2382 - val_mean_absolute_percentage_error: 53.2382\n",
            "Epoch 82/100\n",
            "14/14 [==============================] - 0s 7ms/step - loss: 30.4059 - mean_absolute_percentage_error: 30.4059 - val_loss: 51.9678 - val_mean_absolute_percentage_error: 51.9678\n",
            "Epoch 83/100\n",
            "14/14 [==============================] - 0s 8ms/step - loss: 31.2129 - mean_absolute_percentage_error: 31.2129 - val_loss: 49.2271 - val_mean_absolute_percentage_error: 49.2271\n",
            "Epoch 84/100\n",
            "14/14 [==============================] - 0s 7ms/step - loss: 28.6481 - mean_absolute_percentage_error: 28.6481 - val_loss: 51.6033 - val_mean_absolute_percentage_error: 51.6033\n",
            "Epoch 85/100\n",
            "14/14 [==============================] - 0s 7ms/step - loss: 27.6571 - mean_absolute_percentage_error: 27.6571 - val_loss: 52.4840 - val_mean_absolute_percentage_error: 52.4840\n",
            "Epoch 86/100\n",
            "14/14 [==============================] - 0s 7ms/step - loss: 29.1581 - mean_absolute_percentage_error: 29.1581 - val_loss: 51.5865 - val_mean_absolute_percentage_error: 51.5865\n",
            "Epoch 87/100\n",
            "14/14 [==============================] - 0s 7ms/step - loss: 26.0676 - mean_absolute_percentage_error: 26.0676 - val_loss: 50.4495 - val_mean_absolute_percentage_error: 50.4495\n",
            "Epoch 88/100\n",
            "14/14 [==============================] - 0s 7ms/step - loss: 24.9995 - mean_absolute_percentage_error: 24.9995 - val_loss: 53.6208 - val_mean_absolute_percentage_error: 53.6208\n",
            "Epoch 89/100\n",
            "14/14 [==============================] - 0s 7ms/step - loss: 27.0610 - mean_absolute_percentage_error: 27.0610 - val_loss: 54.0308 - val_mean_absolute_percentage_error: 54.0308\n",
            "Epoch 90/100\n",
            "14/14 [==============================] - 0s 7ms/step - loss: 27.4179 - mean_absolute_percentage_error: 27.4179 - val_loss: 50.5077 - val_mean_absolute_percentage_error: 50.5077\n",
            "Epoch 91/100\n",
            "14/14 [==============================] - 0s 8ms/step - loss: 28.2528 - mean_absolute_percentage_error: 28.2528 - val_loss: 51.3914 - val_mean_absolute_percentage_error: 51.3914\n",
            "Epoch 92/100\n",
            "14/14 [==============================] - 0s 7ms/step - loss: 25.9614 - mean_absolute_percentage_error: 25.9614 - val_loss: 52.0694 - val_mean_absolute_percentage_error: 52.0694\n",
            "Epoch 93/100\n",
            "14/14 [==============================] - 0s 7ms/step - loss: 24.1974 - mean_absolute_percentage_error: 24.1974 - val_loss: 50.9195 - val_mean_absolute_percentage_error: 50.9195\n",
            "Epoch 94/100\n",
            "14/14 [==============================] - 0s 7ms/step - loss: 26.7336 - mean_absolute_percentage_error: 26.7336 - val_loss: 50.3355 - val_mean_absolute_percentage_error: 50.3355\n",
            "Epoch 95/100\n",
            "14/14 [==============================] - 0s 7ms/step - loss: 30.6220 - mean_absolute_percentage_error: 30.6220 - val_loss: 51.3233 - val_mean_absolute_percentage_error: 51.3233\n",
            "Epoch 96/100\n",
            "14/14 [==============================] - 0s 8ms/step - loss: 28.9144 - mean_absolute_percentage_error: 28.9144 - val_loss: 52.9730 - val_mean_absolute_percentage_error: 52.9730\n",
            "Epoch 97/100\n",
            "14/14 [==============================] - 0s 7ms/step - loss: 25.6731 - mean_absolute_percentage_error: 25.6731 - val_loss: 55.2791 - val_mean_absolute_percentage_error: 55.2791\n",
            "Epoch 98/100\n",
            "14/14 [==============================] - 0s 8ms/step - loss: 25.8158 - mean_absolute_percentage_error: 25.8158 - val_loss: 56.0550 - val_mean_absolute_percentage_error: 56.0550\n",
            "Epoch 99/100\n",
            "14/14 [==============================] - 0s 7ms/step - loss: 26.9430 - mean_absolute_percentage_error: 26.9430 - val_loss: 51.2026 - val_mean_absolute_percentage_error: 51.2026\n",
            "Epoch 100/100\n",
            "14/14 [==============================] - 0s 8ms/step - loss: 26.6851 - mean_absolute_percentage_error: 26.6851 - val_loss: 51.2235 - val_mean_absolute_percentage_error: 51.2235\n",
            "Training loss: 23.88067626953125\n",
            "Validation loss: 51.22348403930664\n",
            "Predicting house prices - Estimation Error: 51.22%\n"
          ],
          "name": "stdout"
        }
      ]
    },
    {
      "cell_type": "code",
      "metadata": {
        "id": "rYVUkV0Vb1QZ"
      },
      "source": [
        ""
      ],
      "execution_count": null,
      "outputs": []
    },
    {
      "cell_type": "markdown",
      "metadata": {
        "id": "JyXrXBFVQ-tL"
      },
      "source": [
        "The metric used in this problem to evaluate the performance is the same we used for training the model, the mean absolute percentage error. Mean absolute percentage error is defined as $\\frac{100}{n} \\sum_n \\frac{|\\hat{y} - y|}{|y|}$ where $y$ is the ground-truth, $\\hat{y}$ is the estimation of the model and `n` the number of elements in the set we are evaluating."
      ]
    },
    {
      "cell_type": "code",
      "metadata": {
        "id": "k00W4bWyb4zQ",
        "outputId": "8e438bfd-c248-4a5f-f6bf-4c8df28441c5",
        "colab": {
          "base_uri": "https://localhost:8080/"
        }
      },
      "source": [
        "chanDim = -1\r\n",
        "model = Sequential()\r\n",
        "model.add(Conv2D(16, (3,3), padding='same', input_shape=X_train.shape[1:]))\r\n",
        "model.add(Activation('relu'))\r\n",
        "model.add(MaxPooling2D(pool_size=(2,2)))\r\n",
        "model.add(Conv2D(32, (3,3), padding='same', input_shape=X_train.shape[1:]))\r\n",
        "model.add(Activation('relu'))\r\n",
        "model.add(MaxPooling2D(pool_size=(2,2)))\r\n",
        "model.add(Conv2D(64, (3,3), padding='same', input_shape=X_train.shape[1:]))\r\n",
        "model.add(Activation('relu'))\r\n",
        "model.add(MaxPooling2D(pool_size=(2,2)))\r\n",
        "model.add(Flatten())\r\n",
        "model.add(Dense(1))\r\n",
        "model.summary()\r\n",
        "opt = Adam(lr=1e-3, decay=1e-3 / 200)\r\n",
        "model.compile(loss=\"mean_absolute_percentage_error\", optimizer=opt, metrics=['mean_absolute_percentage_error'])\r\n",
        "\r\n",
        "# train the model\r\n",
        "print(\"[INFO] training model...\")\r\n",
        "history2=model.fit(X_train, Y_train, validation_data=(X_val, Y_val), epochs=100, batch_size=32)\r\n",
        "score1 = model.evaluate(X_train, Y_train, verbose=0)\r\n",
        "print('Training loss:', score1[0])\r\n",
        "score2 = model.evaluate(X_val, Y_val, verbose=0)\r\n",
        "print('Validation loss:', score2[0])\r\n",
        "prices_predicted = model.predict(X_val).flatten()\r\n",
        "diff = ((prices_predicted - Y_val) / Y_val) * 100\r\n",
        "error_mean = np.mean(np.abs(diff))\r\n",
        "\r\n",
        "print(\"Predicting house prices - Estimation Error: {:.2f}%\".format(error_mean))\r\n"
      ],
      "execution_count": 8,
      "outputs": [
        {
          "output_type": "stream",
          "text": [
            "Model: \"sequential_4\"\n",
            "_________________________________________________________________\n",
            "Layer (type)                 Output Shape              Param #   \n",
            "=================================================================\n",
            "conv2d_9 (Conv2D)            (None, 64, 64, 16)        448       \n",
            "_________________________________________________________________\n",
            "activation_9 (Activation)    (None, 64, 64, 16)        0         \n",
            "_________________________________________________________________\n",
            "max_pooling2d_9 (MaxPooling2 (None, 32, 32, 16)        0         \n",
            "_________________________________________________________________\n",
            "conv2d_10 (Conv2D)           (None, 32, 32, 32)        4640      \n",
            "_________________________________________________________________\n",
            "activation_10 (Activation)   (None, 32, 32, 32)        0         \n",
            "_________________________________________________________________\n",
            "max_pooling2d_10 (MaxPooling (None, 16, 16, 32)        0         \n",
            "_________________________________________________________________\n",
            "conv2d_11 (Conv2D)           (None, 16, 16, 64)        18496     \n",
            "_________________________________________________________________\n",
            "activation_11 (Activation)   (None, 16, 16, 64)        0         \n",
            "_________________________________________________________________\n",
            "max_pooling2d_11 (MaxPooling (None, 8, 8, 64)          0         \n",
            "_________________________________________________________________\n",
            "flatten_3 (Flatten)          (None, 4096)              0         \n",
            "_________________________________________________________________\n",
            "dense_3 (Dense)              (None, 1)                 4097      \n",
            "=================================================================\n",
            "Total params: 27,681\n",
            "Trainable params: 27,681\n",
            "Non-trainable params: 0\n",
            "_________________________________________________________________\n",
            "[INFO] training model...\n",
            "Epoch 1/100\n",
            "14/14 [==============================] - 1s 17ms/step - loss: 207.2160 - mean_absolute_percentage_error: 207.2160 - val_loss: 67.8733 - val_mean_absolute_percentage_error: 67.8733\n",
            "Epoch 2/100\n",
            "14/14 [==============================] - 0s 9ms/step - loss: 66.1589 - mean_absolute_percentage_error: 66.1589 - val_loss: 63.4325 - val_mean_absolute_percentage_error: 63.4325\n",
            "Epoch 3/100\n",
            "14/14 [==============================] - 0s 8ms/step - loss: 62.8493 - mean_absolute_percentage_error: 62.8493 - val_loss: 57.7022 - val_mean_absolute_percentage_error: 57.7022\n",
            "Epoch 4/100\n",
            "14/14 [==============================] - 0s 8ms/step - loss: 58.2453 - mean_absolute_percentage_error: 58.2453 - val_loss: 56.1976 - val_mean_absolute_percentage_error: 56.1976\n",
            "Epoch 5/100\n",
            "14/14 [==============================] - 0s 8ms/step - loss: 53.2795 - mean_absolute_percentage_error: 53.2795 - val_loss: 54.3018 - val_mean_absolute_percentage_error: 54.3018\n",
            "Epoch 6/100\n",
            "14/14 [==============================] - 0s 8ms/step - loss: 56.4529 - mean_absolute_percentage_error: 56.4529 - val_loss: 58.9942 - val_mean_absolute_percentage_error: 58.9942\n",
            "Epoch 7/100\n",
            "14/14 [==============================] - 0s 9ms/step - loss: 50.8525 - mean_absolute_percentage_error: 50.8525 - val_loss: 56.2621 - val_mean_absolute_percentage_error: 56.2621\n",
            "Epoch 8/100\n",
            "14/14 [==============================] - 0s 8ms/step - loss: 48.9233 - mean_absolute_percentage_error: 48.9233 - val_loss: 54.9684 - val_mean_absolute_percentage_error: 54.9684\n",
            "Epoch 9/100\n",
            "14/14 [==============================] - 0s 8ms/step - loss: 53.9897 - mean_absolute_percentage_error: 53.9897 - val_loss: 57.7017 - val_mean_absolute_percentage_error: 57.7017\n",
            "Epoch 10/100\n",
            "14/14 [==============================] - 0s 8ms/step - loss: 44.4503 - mean_absolute_percentage_error: 44.4503 - val_loss: 53.0361 - val_mean_absolute_percentage_error: 53.0361\n",
            "Epoch 11/100\n",
            "14/14 [==============================] - 0s 8ms/step - loss: 42.6155 - mean_absolute_percentage_error: 42.6155 - val_loss: 55.8610 - val_mean_absolute_percentage_error: 55.8610\n",
            "Epoch 12/100\n",
            "14/14 [==============================] - 0s 8ms/step - loss: 47.0509 - mean_absolute_percentage_error: 47.0509 - val_loss: 52.2186 - val_mean_absolute_percentage_error: 52.2186\n",
            "Epoch 13/100\n",
            "14/14 [==============================] - 0s 8ms/step - loss: 46.6157 - mean_absolute_percentage_error: 46.6157 - val_loss: 54.5015 - val_mean_absolute_percentage_error: 54.5015\n",
            "Epoch 14/100\n",
            "14/14 [==============================] - 0s 8ms/step - loss: 41.4077 - mean_absolute_percentage_error: 41.4077 - val_loss: 57.0436 - val_mean_absolute_percentage_error: 57.0436\n",
            "Epoch 15/100\n",
            "14/14 [==============================] - 0s 8ms/step - loss: 45.1731 - mean_absolute_percentage_error: 45.1731 - val_loss: 51.7971 - val_mean_absolute_percentage_error: 51.7971\n",
            "Epoch 16/100\n",
            "14/14 [==============================] - 0s 8ms/step - loss: 39.7468 - mean_absolute_percentage_error: 39.7468 - val_loss: 53.8354 - val_mean_absolute_percentage_error: 53.8354\n",
            "Epoch 17/100\n",
            "14/14 [==============================] - 0s 8ms/step - loss: 39.7329 - mean_absolute_percentage_error: 39.7329 - val_loss: 54.9150 - val_mean_absolute_percentage_error: 54.9150\n",
            "Epoch 18/100\n",
            "14/14 [==============================] - 0s 7ms/step - loss: 37.1763 - mean_absolute_percentage_error: 37.1763 - val_loss: 65.0630 - val_mean_absolute_percentage_error: 65.0630\n",
            "Epoch 19/100\n",
            "14/14 [==============================] - 0s 8ms/step - loss: 45.1845 - mean_absolute_percentage_error: 45.1845 - val_loss: 64.5203 - val_mean_absolute_percentage_error: 64.5203\n",
            "Epoch 20/100\n",
            "14/14 [==============================] - 0s 8ms/step - loss: 40.2269 - mean_absolute_percentage_error: 40.2269 - val_loss: 50.7218 - val_mean_absolute_percentage_error: 50.7218\n",
            "Epoch 21/100\n",
            "14/14 [==============================] - 0s 9ms/step - loss: 39.2624 - mean_absolute_percentage_error: 39.2624 - val_loss: 61.1121 - val_mean_absolute_percentage_error: 61.1121\n",
            "Epoch 22/100\n",
            "14/14 [==============================] - 0s 8ms/step - loss: 42.3073 - mean_absolute_percentage_error: 42.3073 - val_loss: 48.8533 - val_mean_absolute_percentage_error: 48.8533\n",
            "Epoch 23/100\n",
            "14/14 [==============================] - 0s 8ms/step - loss: 37.9529 - mean_absolute_percentage_error: 37.9529 - val_loss: 51.0588 - val_mean_absolute_percentage_error: 51.0588\n",
            "Epoch 24/100\n",
            "14/14 [==============================] - 0s 8ms/step - loss: 35.6895 - mean_absolute_percentage_error: 35.6895 - val_loss: 54.5913 - val_mean_absolute_percentage_error: 54.5913\n",
            "Epoch 25/100\n",
            "14/14 [==============================] - 0s 9ms/step - loss: 34.6079 - mean_absolute_percentage_error: 34.6079 - val_loss: 55.3675 - val_mean_absolute_percentage_error: 55.3675\n",
            "Epoch 26/100\n",
            "14/14 [==============================] - 0s 9ms/step - loss: 35.8523 - mean_absolute_percentage_error: 35.8523 - val_loss: 51.6819 - val_mean_absolute_percentage_error: 51.6819\n",
            "Epoch 27/100\n",
            "14/14 [==============================] - 0s 8ms/step - loss: 36.9350 - mean_absolute_percentage_error: 36.9350 - val_loss: 52.3191 - val_mean_absolute_percentage_error: 52.3191\n",
            "Epoch 28/100\n",
            "14/14 [==============================] - 0s 8ms/step - loss: 36.7354 - mean_absolute_percentage_error: 36.7354 - val_loss: 50.6786 - val_mean_absolute_percentage_error: 50.6786\n",
            "Epoch 29/100\n",
            "14/14 [==============================] - 0s 8ms/step - loss: 34.9977 - mean_absolute_percentage_error: 34.9977 - val_loss: 55.8995 - val_mean_absolute_percentage_error: 55.8995\n",
            "Epoch 30/100\n",
            "14/14 [==============================] - 0s 8ms/step - loss: 35.2009 - mean_absolute_percentage_error: 35.2009 - val_loss: 54.1454 - val_mean_absolute_percentage_error: 54.1454\n",
            "Epoch 31/100\n",
            "14/14 [==============================] - 0s 8ms/step - loss: 33.7401 - mean_absolute_percentage_error: 33.7401 - val_loss: 60.7440 - val_mean_absolute_percentage_error: 60.7440\n",
            "Epoch 32/100\n",
            "14/14 [==============================] - 0s 8ms/step - loss: 32.2341 - mean_absolute_percentage_error: 32.2341 - val_loss: 53.4183 - val_mean_absolute_percentage_error: 53.4183\n",
            "Epoch 33/100\n",
            "14/14 [==============================] - 0s 8ms/step - loss: 32.1635 - mean_absolute_percentage_error: 32.1635 - val_loss: 51.8996 - val_mean_absolute_percentage_error: 51.8996\n",
            "Epoch 34/100\n",
            "14/14 [==============================] - 0s 8ms/step - loss: 34.2512 - mean_absolute_percentage_error: 34.2512 - val_loss: 57.9931 - val_mean_absolute_percentage_error: 57.9931\n",
            "Epoch 35/100\n",
            "14/14 [==============================] - 0s 8ms/step - loss: 34.3267 - mean_absolute_percentage_error: 34.3267 - val_loss: 54.4263 - val_mean_absolute_percentage_error: 54.4263\n",
            "Epoch 36/100\n",
            "14/14 [==============================] - 0s 8ms/step - loss: 34.1571 - mean_absolute_percentage_error: 34.1571 - val_loss: 56.0397 - val_mean_absolute_percentage_error: 56.0396\n",
            "Epoch 37/100\n",
            "14/14 [==============================] - 0s 9ms/step - loss: 29.3194 - mean_absolute_percentage_error: 29.3194 - val_loss: 51.8282 - val_mean_absolute_percentage_error: 51.8282\n",
            "Epoch 38/100\n",
            "14/14 [==============================] - 0s 8ms/step - loss: 29.1025 - mean_absolute_percentage_error: 29.1025 - val_loss: 58.7564 - val_mean_absolute_percentage_error: 58.7564\n",
            "Epoch 39/100\n",
            "14/14 [==============================] - 0s 8ms/step - loss: 29.6843 - mean_absolute_percentage_error: 29.6843 - val_loss: 60.0667 - val_mean_absolute_percentage_error: 60.0667\n",
            "Epoch 40/100\n",
            "14/14 [==============================] - 0s 8ms/step - loss: 29.8335 - mean_absolute_percentage_error: 29.8335 - val_loss: 50.8770 - val_mean_absolute_percentage_error: 50.8770\n",
            "Epoch 41/100\n",
            "14/14 [==============================] - 0s 8ms/step - loss: 32.4105 - mean_absolute_percentage_error: 32.4105 - val_loss: 61.2625 - val_mean_absolute_percentage_error: 61.2625\n",
            "Epoch 42/100\n",
            "14/14 [==============================] - 0s 8ms/step - loss: 34.5768 - mean_absolute_percentage_error: 34.5768 - val_loss: 53.9334 - val_mean_absolute_percentage_error: 53.9334\n",
            "Epoch 43/100\n",
            "14/14 [==============================] - 0s 8ms/step - loss: 31.3118 - mean_absolute_percentage_error: 31.3118 - val_loss: 58.8970 - val_mean_absolute_percentage_error: 58.8970\n",
            "Epoch 44/100\n",
            "14/14 [==============================] - 0s 8ms/step - loss: 32.6812 - mean_absolute_percentage_error: 32.6812 - val_loss: 61.9064 - val_mean_absolute_percentage_error: 61.9064\n",
            "Epoch 45/100\n",
            "14/14 [==============================] - 0s 17ms/step - loss: 31.5397 - mean_absolute_percentage_error: 31.5397 - val_loss: 54.8562 - val_mean_absolute_percentage_error: 54.8562\n",
            "Epoch 46/100\n",
            "14/14 [==============================] - 0s 8ms/step - loss: 31.0002 - mean_absolute_percentage_error: 31.0002 - val_loss: 52.2736 - val_mean_absolute_percentage_error: 52.2736\n",
            "Epoch 47/100\n",
            "14/14 [==============================] - 0s 8ms/step - loss: 36.8335 - mean_absolute_percentage_error: 36.8335 - val_loss: 59.7566 - val_mean_absolute_percentage_error: 59.7566\n",
            "Epoch 48/100\n",
            "14/14 [==============================] - 0s 8ms/step - loss: 30.9556 - mean_absolute_percentage_error: 30.9556 - val_loss: 59.3887 - val_mean_absolute_percentage_error: 59.3887\n",
            "Epoch 49/100\n",
            "14/14 [==============================] - 0s 8ms/step - loss: 25.6247 - mean_absolute_percentage_error: 25.6247 - val_loss: 57.4034 - val_mean_absolute_percentage_error: 57.4034\n",
            "Epoch 50/100\n",
            "14/14 [==============================] - 0s 8ms/step - loss: 25.2859 - mean_absolute_percentage_error: 25.2859 - val_loss: 59.7862 - val_mean_absolute_percentage_error: 59.7862\n",
            "Epoch 51/100\n",
            "14/14 [==============================] - 0s 8ms/step - loss: 30.1432 - mean_absolute_percentage_error: 30.1432 - val_loss: 53.6059 - val_mean_absolute_percentage_error: 53.6059\n",
            "Epoch 52/100\n",
            "14/14 [==============================] - 0s 8ms/step - loss: 30.4175 - mean_absolute_percentage_error: 30.4175 - val_loss: 58.0178 - val_mean_absolute_percentage_error: 58.0178\n",
            "Epoch 53/100\n",
            "14/14 [==============================] - 0s 8ms/step - loss: 28.5900 - mean_absolute_percentage_error: 28.5900 - val_loss: 56.4108 - val_mean_absolute_percentage_error: 56.4108\n",
            "Epoch 54/100\n",
            "14/14 [==============================] - 0s 8ms/step - loss: 24.8052 - mean_absolute_percentage_error: 24.8052 - val_loss: 67.6301 - val_mean_absolute_percentage_error: 67.6301\n",
            "Epoch 55/100\n",
            "14/14 [==============================] - 0s 8ms/step - loss: 30.2679 - mean_absolute_percentage_error: 30.2679 - val_loss: 61.2639 - val_mean_absolute_percentage_error: 61.2639\n",
            "Epoch 56/100\n",
            "14/14 [==============================] - 0s 9ms/step - loss: 30.1622 - mean_absolute_percentage_error: 30.1622 - val_loss: 52.5187 - val_mean_absolute_percentage_error: 52.5187\n",
            "Epoch 57/100\n",
            "14/14 [==============================] - 0s 8ms/step - loss: 29.7583 - mean_absolute_percentage_error: 29.7583 - val_loss: 61.3419 - val_mean_absolute_percentage_error: 61.3419\n",
            "Epoch 58/100\n",
            "14/14 [==============================] - 0s 9ms/step - loss: 29.3268 - mean_absolute_percentage_error: 29.3268 - val_loss: 53.8083 - val_mean_absolute_percentage_error: 53.8083\n",
            "Epoch 59/100\n",
            "14/14 [==============================] - 0s 8ms/step - loss: 28.6400 - mean_absolute_percentage_error: 28.6400 - val_loss: 71.3222 - val_mean_absolute_percentage_error: 71.3222\n",
            "Epoch 60/100\n",
            "14/14 [==============================] - 0s 8ms/step - loss: 34.3914 - mean_absolute_percentage_error: 34.3914 - val_loss: 55.8988 - val_mean_absolute_percentage_error: 55.8988\n",
            "Epoch 61/100\n",
            "14/14 [==============================] - 0s 8ms/step - loss: 29.2022 - mean_absolute_percentage_error: 29.2022 - val_loss: 55.0105 - val_mean_absolute_percentage_error: 55.0105\n",
            "Epoch 62/100\n",
            "14/14 [==============================] - 0s 8ms/step - loss: 27.0870 - mean_absolute_percentage_error: 27.0870 - val_loss: 60.7442 - val_mean_absolute_percentage_error: 60.7442\n",
            "Epoch 63/100\n",
            "14/14 [==============================] - 0s 8ms/step - loss: 26.0114 - mean_absolute_percentage_error: 26.0114 - val_loss: 50.1113 - val_mean_absolute_percentage_error: 50.1113\n",
            "Epoch 64/100\n",
            "14/14 [==============================] - 0s 8ms/step - loss: 37.7955 - mean_absolute_percentage_error: 37.7955 - val_loss: 52.7368 - val_mean_absolute_percentage_error: 52.7368\n",
            "Epoch 65/100\n",
            "14/14 [==============================] - 0s 8ms/step - loss: 27.1464 - mean_absolute_percentage_error: 27.1464 - val_loss: 56.8356 - val_mean_absolute_percentage_error: 56.8356\n",
            "Epoch 66/100\n",
            "14/14 [==============================] - 0s 8ms/step - loss: 29.4680 - mean_absolute_percentage_error: 29.4680 - val_loss: 60.4171 - val_mean_absolute_percentage_error: 60.4171\n",
            "Epoch 67/100\n",
            "14/14 [==============================] - 0s 8ms/step - loss: 29.2188 - mean_absolute_percentage_error: 29.2188 - val_loss: 70.2501 - val_mean_absolute_percentage_error: 70.2501\n",
            "Epoch 68/100\n",
            "14/14 [==============================] - 0s 8ms/step - loss: 30.9631 - mean_absolute_percentage_error: 30.9631 - val_loss: 55.3408 - val_mean_absolute_percentage_error: 55.3408\n",
            "Epoch 69/100\n",
            "14/14 [==============================] - 0s 8ms/step - loss: 28.5529 - mean_absolute_percentage_error: 28.5529 - val_loss: 56.8045 - val_mean_absolute_percentage_error: 56.8045\n",
            "Epoch 70/100\n",
            "14/14 [==============================] - 0s 8ms/step - loss: 25.9946 - mean_absolute_percentage_error: 25.9946 - val_loss: 60.5752 - val_mean_absolute_percentage_error: 60.5752\n",
            "Epoch 71/100\n",
            "14/14 [==============================] - 0s 8ms/step - loss: 27.0066 - mean_absolute_percentage_error: 27.0066 - val_loss: 55.0341 - val_mean_absolute_percentage_error: 55.0341\n",
            "Epoch 72/100\n",
            "14/14 [==============================] - 0s 8ms/step - loss: 28.5609 - mean_absolute_percentage_error: 28.5609 - val_loss: 59.9162 - val_mean_absolute_percentage_error: 59.9162\n",
            "Epoch 73/100\n",
            "14/14 [==============================] - 0s 8ms/step - loss: 22.7747 - mean_absolute_percentage_error: 22.7747 - val_loss: 60.3902 - val_mean_absolute_percentage_error: 60.3902\n",
            "Epoch 74/100\n",
            "14/14 [==============================] - 0s 8ms/step - loss: 22.9502 - mean_absolute_percentage_error: 22.9502 - val_loss: 65.6984 - val_mean_absolute_percentage_error: 65.6984\n",
            "Epoch 75/100\n",
            "14/14 [==============================] - 0s 9ms/step - loss: 24.3327 - mean_absolute_percentage_error: 24.3327 - val_loss: 63.3968 - val_mean_absolute_percentage_error: 63.3968\n",
            "Epoch 76/100\n",
            "14/14 [==============================] - 0s 8ms/step - loss: 23.0362 - mean_absolute_percentage_error: 23.0362 - val_loss: 56.5205 - val_mean_absolute_percentage_error: 56.5205\n",
            "Epoch 77/100\n",
            "14/14 [==============================] - 0s 8ms/step - loss: 26.0443 - mean_absolute_percentage_error: 26.0443 - val_loss: 60.3788 - val_mean_absolute_percentage_error: 60.3788\n",
            "Epoch 78/100\n",
            "14/14 [==============================] - 0s 8ms/step - loss: 20.4275 - mean_absolute_percentage_error: 20.4275 - val_loss: 67.8023 - val_mean_absolute_percentage_error: 67.8023\n",
            "Epoch 79/100\n",
            "14/14 [==============================] - 0s 8ms/step - loss: 32.8174 - mean_absolute_percentage_error: 32.8174 - val_loss: 62.1068 - val_mean_absolute_percentage_error: 62.1068\n",
            "Epoch 80/100\n",
            "14/14 [==============================] - 0s 8ms/step - loss: 26.1499 - mean_absolute_percentage_error: 26.1499 - val_loss: 60.8430 - val_mean_absolute_percentage_error: 60.8430\n",
            "Epoch 81/100\n",
            "14/14 [==============================] - 0s 8ms/step - loss: 24.0549 - mean_absolute_percentage_error: 24.0549 - val_loss: 61.4186 - val_mean_absolute_percentage_error: 61.4186\n",
            "Epoch 82/100\n",
            "14/14 [==============================] - 0s 9ms/step - loss: 27.9362 - mean_absolute_percentage_error: 27.9362 - val_loss: 65.0097 - val_mean_absolute_percentage_error: 65.0097\n",
            "Epoch 83/100\n",
            "14/14 [==============================] - 0s 8ms/step - loss: 27.8014 - mean_absolute_percentage_error: 27.8014 - val_loss: 55.8451 - val_mean_absolute_percentage_error: 55.8451\n",
            "Epoch 84/100\n",
            "14/14 [==============================] - 0s 9ms/step - loss: 28.1645 - mean_absolute_percentage_error: 28.1645 - val_loss: 59.4784 - val_mean_absolute_percentage_error: 59.4784\n",
            "Epoch 85/100\n",
            "14/14 [==============================] - 0s 8ms/step - loss: 24.4671 - mean_absolute_percentage_error: 24.4671 - val_loss: 68.3188 - val_mean_absolute_percentage_error: 68.3188\n",
            "Epoch 86/100\n",
            "14/14 [==============================] - 0s 8ms/step - loss: 26.6021 - mean_absolute_percentage_error: 26.6021 - val_loss: 64.0545 - val_mean_absolute_percentage_error: 64.0545\n",
            "Epoch 87/100\n",
            "14/14 [==============================] - 0s 8ms/step - loss: 23.2048 - mean_absolute_percentage_error: 23.2048 - val_loss: 63.9364 - val_mean_absolute_percentage_error: 63.9364\n",
            "Epoch 88/100\n",
            "14/14 [==============================] - 0s 9ms/step - loss: 20.3760 - mean_absolute_percentage_error: 20.3760 - val_loss: 64.5250 - val_mean_absolute_percentage_error: 64.5250\n",
            "Epoch 89/100\n",
            "14/14 [==============================] - 0s 8ms/step - loss: 22.8512 - mean_absolute_percentage_error: 22.8512 - val_loss: 63.0309 - val_mean_absolute_percentage_error: 63.0309\n",
            "Epoch 90/100\n",
            "14/14 [==============================] - 0s 9ms/step - loss: 20.2779 - mean_absolute_percentage_error: 20.2779 - val_loss: 59.3794 - val_mean_absolute_percentage_error: 59.3794\n",
            "Epoch 91/100\n",
            "14/14 [==============================] - 0s 8ms/step - loss: 21.3983 - mean_absolute_percentage_error: 21.3983 - val_loss: 59.3938 - val_mean_absolute_percentage_error: 59.3938\n",
            "Epoch 92/100\n",
            "14/14 [==============================] - 0s 9ms/step - loss: 28.3870 - mean_absolute_percentage_error: 28.3870 - val_loss: 61.0969 - val_mean_absolute_percentage_error: 61.0969\n",
            "Epoch 93/100\n",
            "14/14 [==============================] - 0s 17ms/step - loss: 25.4905 - mean_absolute_percentage_error: 25.4905 - val_loss: 58.7321 - val_mean_absolute_percentage_error: 58.7321\n",
            "Epoch 94/100\n",
            "14/14 [==============================] - 0s 8ms/step - loss: 21.6716 - mean_absolute_percentage_error: 21.6716 - val_loss: 60.7191 - val_mean_absolute_percentage_error: 60.7191\n",
            "Epoch 95/100\n",
            "14/14 [==============================] - 0s 8ms/step - loss: 20.2231 - mean_absolute_percentage_error: 20.2231 - val_loss: 65.6842 - val_mean_absolute_percentage_error: 65.6842\n",
            "Epoch 96/100\n",
            "14/14 [==============================] - 0s 8ms/step - loss: 23.3767 - mean_absolute_percentage_error: 23.3767 - val_loss: 59.7724 - val_mean_absolute_percentage_error: 59.7724\n",
            "Epoch 97/100\n",
            "14/14 [==============================] - 0s 8ms/step - loss: 21.9640 - mean_absolute_percentage_error: 21.9640 - val_loss: 61.7772 - val_mean_absolute_percentage_error: 61.7772\n",
            "Epoch 98/100\n",
            "14/14 [==============================] - 0s 8ms/step - loss: 22.7686 - mean_absolute_percentage_error: 22.7686 - val_loss: 67.9039 - val_mean_absolute_percentage_error: 67.9039\n",
            "Epoch 99/100\n",
            "14/14 [==============================] - 0s 8ms/step - loss: 25.1661 - mean_absolute_percentage_error: 25.1661 - val_loss: 63.6680 - val_mean_absolute_percentage_error: 63.6680\n",
            "Epoch 100/100\n",
            "14/14 [==============================] - 0s 9ms/step - loss: 25.3342 - mean_absolute_percentage_error: 25.3342 - val_loss: 61.3676 - val_mean_absolute_percentage_error: 61.3676\n",
            "Training loss: 21.537391662597656\n",
            "Validation loss: 61.367591857910156\n",
            "Predicting house prices - Estimation Error: 61.37%\n"
          ],
          "name": "stdout"
        }
      ]
    },
    {
      "cell_type": "code",
      "metadata": {
        "id": "j8qgKAMVtOF2",
        "outputId": "e6b34407-ac36-4a48-d3a8-ae6bbd5dd9ea",
        "colab": {
          "base_uri": "https://localhost:8080/"
        }
      },
      "source": [
        "chanDim = -1\r\n",
        "model = Sequential()\r\n",
        "model.add(Conv2D(1, (3,3), padding='same', input_shape=X_train.shape[1:]))\r\n",
        "model.add(Activation('relu'))\r\n",
        "model.add(MaxPooling2D(pool_size=(2,2)))\r\n",
        "model.add(Conv2D(2, (3,3), padding='same', input_shape=X_train.shape[1:]))\r\n",
        "model.add(Activation('relu'))\r\n",
        "model.add(MaxPooling2D(pool_size=(2,2)))\r\n",
        "model.add(Conv2D(4, (3,3), padding='same', input_shape=X_train.shape[1:]))\r\n",
        "model.add(Activation('relu'))\r\n",
        "model.add(MaxPooling2D(pool_size=(2,2)))\r\n",
        "model.add(Flatten())\r\n",
        "model.add(Dense(1))\r\n",
        "model.summary()\r\n",
        "opt = Adam(lr=1e-3, decay=1e-3 / 200)\r\n",
        "model.compile(loss=\"mean_absolute_percentage_error\", optimizer=opt, metrics=['mean_absolute_percentage_error'])\r\n",
        "\r\n",
        "# train the model\r\n",
        "print(\"[INFO] training model...\")\r\n",
        "history3=model.fit(X_train, Y_train, validation_data=(X_val, Y_val), epochs=100, batch_size=32)\r\n",
        "score1 = model.evaluate(X_train, Y_train, verbose=0)\r\n",
        "print('Training loss:', score1[0])\r\n",
        "score2 = model.evaluate(X_val, Y_val, verbose=0)\r\n",
        "print('Validation loss:', score2[0])\r\n",
        "prices_predicted = model.predict(X_val).flatten()\r\n",
        "diff = ((prices_predicted - Y_val) / Y_val) * 100\r\n",
        "error_mean = np.mean(np.abs(diff))\r\n",
        "\r\n",
        "print(\"Predicting house prices - Estimation Error: {:.2f}%\".format(error_mean))"
      ],
      "execution_count": 7,
      "outputs": [
        {
          "output_type": "stream",
          "text": [
            "Model: \"sequential_3\"\n",
            "_________________________________________________________________\n",
            "Layer (type)                 Output Shape              Param #   \n",
            "=================================================================\n",
            "conv2d_6 (Conv2D)            (None, 64, 64, 1)         28        \n",
            "_________________________________________________________________\n",
            "activation_6 (Activation)    (None, 64, 64, 1)         0         \n",
            "_________________________________________________________________\n",
            "max_pooling2d_6 (MaxPooling2 (None, 32, 32, 1)         0         \n",
            "_________________________________________________________________\n",
            "conv2d_7 (Conv2D)            (None, 32, 32, 2)         20        \n",
            "_________________________________________________________________\n",
            "activation_7 (Activation)    (None, 32, 32, 2)         0         \n",
            "_________________________________________________________________\n",
            "max_pooling2d_7 (MaxPooling2 (None, 16, 16, 2)         0         \n",
            "_________________________________________________________________\n",
            "conv2d_8 (Conv2D)            (None, 16, 16, 4)         76        \n",
            "_________________________________________________________________\n",
            "activation_8 (Activation)    (None, 16, 16, 4)         0         \n",
            "_________________________________________________________________\n",
            "max_pooling2d_8 (MaxPooling2 (None, 8, 8, 4)           0         \n",
            "_________________________________________________________________\n",
            "flatten_2 (Flatten)          (None, 256)               0         \n",
            "_________________________________________________________________\n",
            "dense_2 (Dense)              (None, 1)                 257       \n",
            "=================================================================\n",
            "Total params: 381\n",
            "Trainable params: 381\n",
            "Non-trainable params: 0\n",
            "_________________________________________________________________\n",
            "[INFO] training model...\n",
            "Epoch 1/100\n",
            "14/14 [==============================] - 1s 24ms/step - loss: 109.2966 - mean_absolute_percentage_error: 109.2966 - val_loss: 82.5315 - val_mean_absolute_percentage_error: 82.5315\n",
            "Epoch 2/100\n",
            "14/14 [==============================] - 0s 7ms/step - loss: 88.8935 - mean_absolute_percentage_error: 88.8935 - val_loss: 74.4820 - val_mean_absolute_percentage_error: 74.4820\n",
            "Epoch 3/100\n",
            "14/14 [==============================] - 0s 6ms/step - loss: 76.6541 - mean_absolute_percentage_error: 76.6541 - val_loss: 73.1193 - val_mean_absolute_percentage_error: 73.1193\n",
            "Epoch 4/100\n",
            "14/14 [==============================] - 0s 6ms/step - loss: 77.3807 - mean_absolute_percentage_error: 77.3807 - val_loss: 69.6008 - val_mean_absolute_percentage_error: 69.6008\n",
            "Epoch 5/100\n",
            "14/14 [==============================] - 0s 6ms/step - loss: 74.7902 - mean_absolute_percentage_error: 74.7902 - val_loss: 69.6033 - val_mean_absolute_percentage_error: 69.6033\n",
            "Epoch 6/100\n",
            "14/14 [==============================] - 0s 6ms/step - loss: 72.6590 - mean_absolute_percentage_error: 72.6590 - val_loss: 69.4274 - val_mean_absolute_percentage_error: 69.4274\n",
            "Epoch 7/100\n",
            "14/14 [==============================] - 0s 7ms/step - loss: 71.3834 - mean_absolute_percentage_error: 71.3834 - val_loss: 69.7609 - val_mean_absolute_percentage_error: 69.7609\n",
            "Epoch 8/100\n",
            "14/14 [==============================] - 0s 6ms/step - loss: 71.2358 - mean_absolute_percentage_error: 71.2358 - val_loss: 68.8797 - val_mean_absolute_percentage_error: 68.8797\n",
            "Epoch 9/100\n",
            "14/14 [==============================] - 0s 7ms/step - loss: 71.2796 - mean_absolute_percentage_error: 71.2796 - val_loss: 70.6186 - val_mean_absolute_percentage_error: 70.6186\n",
            "Epoch 10/100\n",
            "14/14 [==============================] - 0s 6ms/step - loss: 72.1907 - mean_absolute_percentage_error: 72.1907 - val_loss: 68.7046 - val_mean_absolute_percentage_error: 68.7046\n",
            "Epoch 11/100\n",
            "14/14 [==============================] - 0s 6ms/step - loss: 66.5497 - mean_absolute_percentage_error: 66.5497 - val_loss: 69.0902 - val_mean_absolute_percentage_error: 69.0902\n",
            "Epoch 12/100\n",
            "14/14 [==============================] - 0s 6ms/step - loss: 69.2769 - mean_absolute_percentage_error: 69.2769 - val_loss: 68.1150 - val_mean_absolute_percentage_error: 68.1150\n",
            "Epoch 13/100\n",
            "14/14 [==============================] - 0s 6ms/step - loss: 70.0261 - mean_absolute_percentage_error: 70.0261 - val_loss: 69.5868 - val_mean_absolute_percentage_error: 69.5868\n",
            "Epoch 14/100\n",
            "14/14 [==============================] - 0s 6ms/step - loss: 69.2373 - mean_absolute_percentage_error: 69.2373 - val_loss: 69.7252 - val_mean_absolute_percentage_error: 69.7252\n",
            "Epoch 15/100\n",
            "14/14 [==============================] - 0s 6ms/step - loss: 69.9386 - mean_absolute_percentage_error: 69.9386 - val_loss: 67.3802 - val_mean_absolute_percentage_error: 67.3802\n",
            "Epoch 16/100\n",
            "14/14 [==============================] - 0s 6ms/step - loss: 68.5197 - mean_absolute_percentage_error: 68.5197 - val_loss: 68.7045 - val_mean_absolute_percentage_error: 68.7045\n",
            "Epoch 17/100\n",
            "14/14 [==============================] - 0s 6ms/step - loss: 69.4284 - mean_absolute_percentage_error: 69.4284 - val_loss: 69.4656 - val_mean_absolute_percentage_error: 69.4656\n",
            "Epoch 18/100\n",
            "14/14 [==============================] - 0s 6ms/step - loss: 69.4813 - mean_absolute_percentage_error: 69.4813 - val_loss: 68.4321 - val_mean_absolute_percentage_error: 68.4321\n",
            "Epoch 19/100\n",
            "14/14 [==============================] - 0s 6ms/step - loss: 69.6551 - mean_absolute_percentage_error: 69.6551 - val_loss: 68.4287 - val_mean_absolute_percentage_error: 68.4287\n",
            "Epoch 20/100\n",
            "14/14 [==============================] - 0s 6ms/step - loss: 72.4732 - mean_absolute_percentage_error: 72.4732 - val_loss: 67.7251 - val_mean_absolute_percentage_error: 67.7251\n",
            "Epoch 21/100\n",
            "14/14 [==============================] - 0s 6ms/step - loss: 70.8207 - mean_absolute_percentage_error: 70.8207 - val_loss: 67.5844 - val_mean_absolute_percentage_error: 67.5844\n",
            "Epoch 22/100\n",
            "14/14 [==============================] - 0s 6ms/step - loss: 71.7965 - mean_absolute_percentage_error: 71.7965 - val_loss: 69.5669 - val_mean_absolute_percentage_error: 69.5669\n",
            "Epoch 23/100\n",
            "14/14 [==============================] - 0s 6ms/step - loss: 69.5321 - mean_absolute_percentage_error: 69.5321 - val_loss: 67.9964 - val_mean_absolute_percentage_error: 67.9964\n",
            "Epoch 24/100\n",
            "14/14 [==============================] - 0s 7ms/step - loss: 70.3066 - mean_absolute_percentage_error: 70.3066 - val_loss: 67.7233 - val_mean_absolute_percentage_error: 67.7233\n",
            "Epoch 25/100\n",
            "14/14 [==============================] - 0s 6ms/step - loss: 67.6768 - mean_absolute_percentage_error: 67.6768 - val_loss: 68.4418 - val_mean_absolute_percentage_error: 68.4418\n",
            "Epoch 26/100\n",
            "14/14 [==============================] - 0s 7ms/step - loss: 70.0008 - mean_absolute_percentage_error: 70.0008 - val_loss: 69.9290 - val_mean_absolute_percentage_error: 69.9290\n",
            "Epoch 27/100\n",
            "14/14 [==============================] - 0s 6ms/step - loss: 70.2969 - mean_absolute_percentage_error: 70.2969 - val_loss: 68.2734 - val_mean_absolute_percentage_error: 68.2734\n",
            "Epoch 28/100\n",
            "14/14 [==============================] - 0s 7ms/step - loss: 69.1433 - mean_absolute_percentage_error: 69.1433 - val_loss: 68.2701 - val_mean_absolute_percentage_error: 68.2701\n",
            "Epoch 29/100\n",
            "14/14 [==============================] - 0s 8ms/step - loss: 68.3583 - mean_absolute_percentage_error: 68.3583 - val_loss: 68.4294 - val_mean_absolute_percentage_error: 68.4294\n",
            "Epoch 30/100\n",
            "14/14 [==============================] - 0s 7ms/step - loss: 68.8899 - mean_absolute_percentage_error: 68.8899 - val_loss: 68.7886 - val_mean_absolute_percentage_error: 68.7886\n",
            "Epoch 31/100\n",
            "14/14 [==============================] - 0s 6ms/step - loss: 71.0421 - mean_absolute_percentage_error: 71.0421 - val_loss: 68.2057 - val_mean_absolute_percentage_error: 68.2057\n",
            "Epoch 32/100\n",
            "14/14 [==============================] - 0s 7ms/step - loss: 68.4023 - mean_absolute_percentage_error: 68.4023 - val_loss: 67.7747 - val_mean_absolute_percentage_error: 67.7747\n",
            "Epoch 33/100\n",
            "14/14 [==============================] - 0s 6ms/step - loss: 69.1623 - mean_absolute_percentage_error: 69.1623 - val_loss: 69.3224 - val_mean_absolute_percentage_error: 69.3224\n",
            "Epoch 34/100\n",
            "14/14 [==============================] - 0s 7ms/step - loss: 67.5189 - mean_absolute_percentage_error: 67.5189 - val_loss: 65.5984 - val_mean_absolute_percentage_error: 65.5984\n",
            "Epoch 35/100\n",
            "14/14 [==============================] - 0s 6ms/step - loss: 69.8704 - mean_absolute_percentage_error: 69.8704 - val_loss: 69.4450 - val_mean_absolute_percentage_error: 69.4450\n",
            "Epoch 36/100\n",
            "14/14 [==============================] - 0s 7ms/step - loss: 69.2142 - mean_absolute_percentage_error: 69.2142 - val_loss: 68.1752 - val_mean_absolute_percentage_error: 68.1752\n",
            "Epoch 37/100\n",
            "14/14 [==============================] - 0s 6ms/step - loss: 68.4449 - mean_absolute_percentage_error: 68.4449 - val_loss: 68.2839 - val_mean_absolute_percentage_error: 68.2839\n",
            "Epoch 38/100\n",
            "14/14 [==============================] - 0s 7ms/step - loss: 68.7850 - mean_absolute_percentage_error: 68.7850 - val_loss: 68.0713 - val_mean_absolute_percentage_error: 68.0713\n",
            "Epoch 39/100\n",
            "14/14 [==============================] - 0s 7ms/step - loss: 68.5998 - mean_absolute_percentage_error: 68.5998 - val_loss: 69.2092 - val_mean_absolute_percentage_error: 69.2092\n",
            "Epoch 40/100\n",
            "14/14 [==============================] - 0s 7ms/step - loss: 71.2591 - mean_absolute_percentage_error: 71.2591 - val_loss: 68.3539 - val_mean_absolute_percentage_error: 68.3539\n",
            "Epoch 41/100\n",
            "14/14 [==============================] - 0s 6ms/step - loss: 70.0687 - mean_absolute_percentage_error: 70.0687 - val_loss: 71.0897 - val_mean_absolute_percentage_error: 71.0897\n",
            "Epoch 42/100\n",
            "14/14 [==============================] - 0s 7ms/step - loss: 69.4348 - mean_absolute_percentage_error: 69.4348 - val_loss: 67.4219 - val_mean_absolute_percentage_error: 67.4219\n",
            "Epoch 43/100\n",
            "14/14 [==============================] - 0s 6ms/step - loss: 70.1847 - mean_absolute_percentage_error: 70.1847 - val_loss: 67.7700 - val_mean_absolute_percentage_error: 67.7700\n",
            "Epoch 44/100\n",
            "14/14 [==============================] - 0s 6ms/step - loss: 65.2872 - mean_absolute_percentage_error: 65.2872 - val_loss: 68.2468 - val_mean_absolute_percentage_error: 68.2468\n",
            "Epoch 45/100\n",
            "14/14 [==============================] - 0s 7ms/step - loss: 69.8574 - mean_absolute_percentage_error: 69.8574 - val_loss: 68.5726 - val_mean_absolute_percentage_error: 68.5726\n",
            "Epoch 46/100\n",
            "14/14 [==============================] - 0s 7ms/step - loss: 69.1538 - mean_absolute_percentage_error: 69.1538 - val_loss: 67.9739 - val_mean_absolute_percentage_error: 67.9739\n",
            "Epoch 47/100\n",
            "14/14 [==============================] - 0s 7ms/step - loss: 66.5497 - mean_absolute_percentage_error: 66.5497 - val_loss: 67.8079 - val_mean_absolute_percentage_error: 67.8079\n",
            "Epoch 48/100\n",
            "14/14 [==============================] - 0s 7ms/step - loss: 67.4427 - mean_absolute_percentage_error: 67.4427 - val_loss: 68.1592 - val_mean_absolute_percentage_error: 68.1592\n",
            "Epoch 49/100\n",
            "14/14 [==============================] - 0s 15ms/step - loss: 68.4889 - mean_absolute_percentage_error: 68.4889 - val_loss: 68.1339 - val_mean_absolute_percentage_error: 68.1339\n",
            "Epoch 50/100\n",
            "14/14 [==============================] - 0s 6ms/step - loss: 65.7104 - mean_absolute_percentage_error: 65.7104 - val_loss: 67.9824 - val_mean_absolute_percentage_error: 67.9824\n",
            "Epoch 51/100\n",
            "14/14 [==============================] - 0s 6ms/step - loss: 65.9300 - mean_absolute_percentage_error: 65.9300 - val_loss: 68.3671 - val_mean_absolute_percentage_error: 68.3671\n",
            "Epoch 52/100\n",
            "14/14 [==============================] - 0s 6ms/step - loss: 68.7205 - mean_absolute_percentage_error: 68.7205 - val_loss: 67.9685 - val_mean_absolute_percentage_error: 67.9685\n",
            "Epoch 53/100\n",
            "14/14 [==============================] - 0s 6ms/step - loss: 66.8315 - mean_absolute_percentage_error: 66.8315 - val_loss: 67.4040 - val_mean_absolute_percentage_error: 67.4040\n",
            "Epoch 54/100\n",
            "14/14 [==============================] - 0s 8ms/step - loss: 66.9280 - mean_absolute_percentage_error: 66.9280 - val_loss: 69.0984 - val_mean_absolute_percentage_error: 69.0984\n",
            "Epoch 55/100\n",
            "14/14 [==============================] - 0s 7ms/step - loss: 72.2709 - mean_absolute_percentage_error: 72.2709 - val_loss: 67.6029 - val_mean_absolute_percentage_error: 67.6029\n",
            "Epoch 56/100\n",
            "14/14 [==============================] - 0s 6ms/step - loss: 66.8104 - mean_absolute_percentage_error: 66.8104 - val_loss: 68.0238 - val_mean_absolute_percentage_error: 68.0238\n",
            "Epoch 57/100\n",
            "14/14 [==============================] - 0s 7ms/step - loss: 67.2102 - mean_absolute_percentage_error: 67.2102 - val_loss: 67.9305 - val_mean_absolute_percentage_error: 67.9305\n",
            "Epoch 58/100\n",
            "14/14 [==============================] - 0s 6ms/step - loss: 69.7984 - mean_absolute_percentage_error: 69.7984 - val_loss: 67.3737 - val_mean_absolute_percentage_error: 67.3737\n",
            "Epoch 59/100\n",
            "14/14 [==============================] - 0s 7ms/step - loss: 68.1218 - mean_absolute_percentage_error: 68.1218 - val_loss: 68.4845 - val_mean_absolute_percentage_error: 68.4845\n",
            "Epoch 60/100\n",
            "14/14 [==============================] - 0s 6ms/step - loss: 67.1574 - mean_absolute_percentage_error: 67.1574 - val_loss: 67.8929 - val_mean_absolute_percentage_error: 67.8929\n",
            "Epoch 61/100\n",
            "14/14 [==============================] - 0s 7ms/step - loss: 69.1514 - mean_absolute_percentage_error: 69.1514 - val_loss: 68.9346 - val_mean_absolute_percentage_error: 68.9346\n",
            "Epoch 62/100\n",
            "14/14 [==============================] - 0s 7ms/step - loss: 67.0187 - mean_absolute_percentage_error: 67.0187 - val_loss: 68.3079 - val_mean_absolute_percentage_error: 68.3079\n",
            "Epoch 63/100\n",
            "14/14 [==============================] - 0s 8ms/step - loss: 66.8644 - mean_absolute_percentage_error: 66.8644 - val_loss: 68.7285 - val_mean_absolute_percentage_error: 68.7285\n",
            "Epoch 64/100\n",
            "14/14 [==============================] - 0s 7ms/step - loss: 65.4153 - mean_absolute_percentage_error: 65.4153 - val_loss: 68.4143 - val_mean_absolute_percentage_error: 68.4143\n",
            "Epoch 65/100\n",
            "14/14 [==============================] - 0s 7ms/step - loss: 64.2943 - mean_absolute_percentage_error: 64.2943 - val_loss: 68.6712 - val_mean_absolute_percentage_error: 68.6712\n",
            "Epoch 66/100\n",
            "14/14 [==============================] - 0s 7ms/step - loss: 64.9372 - mean_absolute_percentage_error: 64.9372 - val_loss: 68.7786 - val_mean_absolute_percentage_error: 68.7786\n",
            "Epoch 67/100\n",
            "14/14 [==============================] - 0s 7ms/step - loss: 66.2481 - mean_absolute_percentage_error: 66.2481 - val_loss: 68.3102 - val_mean_absolute_percentage_error: 68.3102\n",
            "Epoch 68/100\n",
            "14/14 [==============================] - 0s 7ms/step - loss: 65.4286 - mean_absolute_percentage_error: 65.4286 - val_loss: 69.5688 - val_mean_absolute_percentage_error: 69.5688\n",
            "Epoch 69/100\n",
            "14/14 [==============================] - 0s 8ms/step - loss: 63.6447 - mean_absolute_percentage_error: 63.6447 - val_loss: 68.4860 - val_mean_absolute_percentage_error: 68.4860\n",
            "Epoch 70/100\n",
            "14/14 [==============================] - 0s 6ms/step - loss: 66.4567 - mean_absolute_percentage_error: 66.4567 - val_loss: 68.9404 - val_mean_absolute_percentage_error: 68.9404\n",
            "Epoch 71/100\n",
            "14/14 [==============================] - 0s 6ms/step - loss: 65.2032 - mean_absolute_percentage_error: 65.2032 - val_loss: 69.5079 - val_mean_absolute_percentage_error: 69.5079\n",
            "Epoch 72/100\n",
            "14/14 [==============================] - 0s 7ms/step - loss: 63.5344 - mean_absolute_percentage_error: 63.5344 - val_loss: 68.6526 - val_mean_absolute_percentage_error: 68.6526\n",
            "Epoch 73/100\n",
            "14/14 [==============================] - 0s 7ms/step - loss: 64.0683 - mean_absolute_percentage_error: 64.0683 - val_loss: 68.2909 - val_mean_absolute_percentage_error: 68.2909\n",
            "Epoch 74/100\n",
            "14/14 [==============================] - 0s 7ms/step - loss: 65.1115 - mean_absolute_percentage_error: 65.1115 - val_loss: 68.0807 - val_mean_absolute_percentage_error: 68.0807\n",
            "Epoch 75/100\n",
            "14/14 [==============================] - 0s 7ms/step - loss: 62.6277 - mean_absolute_percentage_error: 62.6277 - val_loss: 68.3452 - val_mean_absolute_percentage_error: 68.3452\n",
            "Epoch 76/100\n",
            "14/14 [==============================] - 0s 6ms/step - loss: 64.1881 - mean_absolute_percentage_error: 64.1881 - val_loss: 67.3430 - val_mean_absolute_percentage_error: 67.3430\n",
            "Epoch 77/100\n",
            "14/14 [==============================] - 0s 7ms/step - loss: 62.8027 - mean_absolute_percentage_error: 62.8027 - val_loss: 67.7497 - val_mean_absolute_percentage_error: 67.7497\n",
            "Epoch 78/100\n",
            "14/14 [==============================] - 0s 7ms/step - loss: 61.1620 - mean_absolute_percentage_error: 61.1620 - val_loss: 67.0138 - val_mean_absolute_percentage_error: 67.0138\n",
            "Epoch 79/100\n",
            "14/14 [==============================] - 0s 8ms/step - loss: 61.4827 - mean_absolute_percentage_error: 61.4827 - val_loss: 67.5922 - val_mean_absolute_percentage_error: 67.5922\n",
            "Epoch 80/100\n",
            "14/14 [==============================] - 0s 7ms/step - loss: 59.0539 - mean_absolute_percentage_error: 59.0539 - val_loss: 67.3895 - val_mean_absolute_percentage_error: 67.3895\n",
            "Epoch 81/100\n",
            "14/14 [==============================] - 0s 7ms/step - loss: 59.3001 - mean_absolute_percentage_error: 59.3001 - val_loss: 66.4095 - val_mean_absolute_percentage_error: 66.4095\n",
            "Epoch 82/100\n",
            "14/14 [==============================] - 0s 6ms/step - loss: 60.7153 - mean_absolute_percentage_error: 60.7153 - val_loss: 68.5719 - val_mean_absolute_percentage_error: 68.5719\n",
            "Epoch 83/100\n",
            "14/14 [==============================] - 0s 7ms/step - loss: 58.8760 - mean_absolute_percentage_error: 58.8760 - val_loss: 64.2765 - val_mean_absolute_percentage_error: 64.2765\n",
            "Epoch 84/100\n",
            "14/14 [==============================] - 0s 7ms/step - loss: 59.7698 - mean_absolute_percentage_error: 59.7698 - val_loss: 64.8562 - val_mean_absolute_percentage_error: 64.8562\n",
            "Epoch 85/100\n",
            "14/14 [==============================] - 0s 8ms/step - loss: 59.5954 - mean_absolute_percentage_error: 59.5954 - val_loss: 63.5072 - val_mean_absolute_percentage_error: 63.5072\n",
            "Epoch 86/100\n",
            "14/14 [==============================] - 0s 7ms/step - loss: 56.4274 - mean_absolute_percentage_error: 56.4274 - val_loss: 64.8820 - val_mean_absolute_percentage_error: 64.8820\n",
            "Epoch 87/100\n",
            "14/14 [==============================] - 0s 7ms/step - loss: 58.0562 - mean_absolute_percentage_error: 58.0562 - val_loss: 62.6345 - val_mean_absolute_percentage_error: 62.6345\n",
            "Epoch 88/100\n",
            "14/14 [==============================] - 0s 7ms/step - loss: 54.1650 - mean_absolute_percentage_error: 54.1650 - val_loss: 63.1001 - val_mean_absolute_percentage_error: 63.1001\n",
            "Epoch 89/100\n",
            "14/14 [==============================] - 0s 8ms/step - loss: 55.7436 - mean_absolute_percentage_error: 55.7436 - val_loss: 63.0626 - val_mean_absolute_percentage_error: 63.0626\n",
            "Epoch 90/100\n",
            "14/14 [==============================] - 0s 7ms/step - loss: 55.6032 - mean_absolute_percentage_error: 55.6032 - val_loss: 61.8008 - val_mean_absolute_percentage_error: 61.8008\n",
            "Epoch 91/100\n",
            "14/14 [==============================] - 0s 7ms/step - loss: 54.7611 - mean_absolute_percentage_error: 54.7611 - val_loss: 62.1122 - val_mean_absolute_percentage_error: 62.1122\n",
            "Epoch 92/100\n",
            "14/14 [==============================] - 0s 6ms/step - loss: 57.7626 - mean_absolute_percentage_error: 57.7626 - val_loss: 61.4544 - val_mean_absolute_percentage_error: 61.4544\n",
            "Epoch 93/100\n",
            "14/14 [==============================] - 0s 7ms/step - loss: 50.8895 - mean_absolute_percentage_error: 50.8895 - val_loss: 61.0685 - val_mean_absolute_percentage_error: 61.0685\n",
            "Epoch 94/100\n",
            "14/14 [==============================] - 0s 7ms/step - loss: 52.1187 - mean_absolute_percentage_error: 52.1187 - val_loss: 61.8013 - val_mean_absolute_percentage_error: 61.8013\n",
            "Epoch 95/100\n",
            "14/14 [==============================] - 0s 7ms/step - loss: 53.9419 - mean_absolute_percentage_error: 53.9419 - val_loss: 61.1580 - val_mean_absolute_percentage_error: 61.1580\n",
            "Epoch 96/100\n",
            "14/14 [==============================] - 0s 15ms/step - loss: 53.8073 - mean_absolute_percentage_error: 53.8073 - val_loss: 60.4836 - val_mean_absolute_percentage_error: 60.4836\n",
            "Epoch 97/100\n",
            "14/14 [==============================] - 0s 7ms/step - loss: 50.5898 - mean_absolute_percentage_error: 50.5898 - val_loss: 61.2648 - val_mean_absolute_percentage_error: 61.2648\n",
            "Epoch 98/100\n",
            "14/14 [==============================] - 0s 7ms/step - loss: 51.3488 - mean_absolute_percentage_error: 51.3488 - val_loss: 62.1484 - val_mean_absolute_percentage_error: 62.1484\n",
            "Epoch 99/100\n",
            "14/14 [==============================] - 0s 8ms/step - loss: 51.0664 - mean_absolute_percentage_error: 51.0664 - val_loss: 61.9851 - val_mean_absolute_percentage_error: 61.9851\n",
            "Epoch 100/100\n",
            "14/14 [==============================] - 0s 6ms/step - loss: 51.7472 - mean_absolute_percentage_error: 51.7472 - val_loss: 60.3331 - val_mean_absolute_percentage_error: 60.3331\n",
            "Training loss: 50.90999984741211\n",
            "Validation loss: 60.33313751220703\n",
            "Predicting house prices - Estimation Error: 60.33%\n"
          ],
          "name": "stdout"
        }
      ]
    },
    {
      "cell_type": "code",
      "metadata": {
        "id": "2zu_EOxCdRxV",
        "outputId": "072738c4-96ec-4122-fb42-e8eb3e53abf2",
        "colab": {
          "base_uri": "https://localhost:8080/",
          "height": 312
        }
      },
      "source": [
        "plt.plot(history.history['loss'],'b',label='Origi_T')\r\n",
        "plt.plot(history.history['val_loss'],'deepskyblue',label='Origi_V')\r\n",
        "plt.plot(history2.history['loss'],'r',label='4*Ori_T')\r\n",
        "plt.plot(history2.history['val_loss'],'orangered',label='4*Ori_V')\r\n",
        "plt.plot(history3.history['loss'],'g',label='1/4*Ori_T')\r\n",
        "plt.plot(history3.history['val_loss'],'lawngreen',label='1/4*Ori_V')\r\n",
        "plt.ylim([20, 90])\r\n",
        "plt.title('Training / Validating Loss')\r\n",
        "plt.ylabel('Training loss')\r\n",
        "plt.legend(loc='best',prop={'size': 8})\r\n",
        "plt.xlabel('Epoch')\r\n"
      ],
      "execution_count": 25,
      "outputs": [
        {
          "output_type": "execute_result",
          "data": {
            "text/plain": [
              "Text(0.5, 0, 'Epoch')"
            ]
          },
          "metadata": {
            "tags": []
          },
          "execution_count": 25
        },
        {
          "output_type": "display_data",
          "data": {
            "image/png": "[encoded data removed]",
            "text/plain": [
              "<Figure size 432x288 with 1 Axes>"
            ]
          },
          "metadata": {
            "tags": [],
            "needs_background": "light"
          }
        }
      ]
    },
    {
      "cell_type": "markdown",
      "metadata": {
        "id": "n2uJs6-xG6lD"
      },
      "source": [
        "**Report**:\n",
        "\n",
        "\n",
        "*   Propose a CNN architecture that has an estimation error in the validation set below 75%. \n",
        "*   Present a figure showing the training and validation loss vs the number of training epochs for different architectural design choices. Discuss the gap between the training and validation loss depending on the proposed architecture.\n",
        "*   Report a table with results when using any of the other images from the house (kitchen, bedroom, and bathroom)."
      ]
    }
  ]
}